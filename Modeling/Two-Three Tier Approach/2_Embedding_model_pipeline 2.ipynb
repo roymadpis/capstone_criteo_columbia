{
 "cells": [
  {
   "cell_type": "markdown",
   "metadata": {
    "id": "h3puB8DP6G5b"
   },
   "source": [
    "## Embedding Approach --> pipeline to train the model"
   ]
  },
  {
   "cell_type": "code",
   "execution_count": 25,
   "metadata": {
    "colab": {
     "base_uri": "https://localhost:8080/"
    },
    "id": "5HeESFmsbc8t",
    "outputId": "928a19bc-4464-4a66-9fcc-e8eeea8c484f"
   },
   "outputs": [
    {
     "name": "stdout",
     "output_type": "stream",
     "text": [
      "Requirement already satisfied: clip in /usr/local/lib/python3.10/dist-packages (0.2.0)\n",
      "Requirement already satisfied: torch in /usr/local/lib/python3.10/dist-packages (2.5.0+cu121)\n",
      "Requirement already satisfied: filelock in /usr/local/lib/python3.10/dist-packages (from torch) (3.16.1)\n",
      "Requirement already satisfied: typing-extensions>=4.8.0 in /usr/local/lib/python3.10/dist-packages (from torch) (4.12.2)\n",
      "Requirement already satisfied: networkx in /usr/local/lib/python3.10/dist-packages (from torch) (3.4.2)\n",
      "Requirement already satisfied: jinja2 in /usr/local/lib/python3.10/dist-packages (from torch) (3.1.4)\n",
      "Requirement already satisfied: fsspec in /usr/local/lib/python3.10/dist-packages (from torch) (2024.10.0)\n",
      "Requirement already satisfied: sympy==1.13.1 in /usr/local/lib/python3.10/dist-packages (from torch) (1.13.1)\n",
      "Requirement already satisfied: mpmath<1.4,>=1.1.0 in /usr/local/lib/python3.10/dist-packages (from sympy==1.13.1->torch) (1.3.0)\n",
      "Requirement already satisfied: MarkupSafe>=2.0 in /usr/local/lib/python3.10/dist-packages (from jinja2->torch) (3.0.2)\n",
      "Requirement already satisfied: torchvision in /usr/local/lib/python3.10/dist-packages (0.20.0+cu121)\n",
      "Requirement already satisfied: numpy in /usr/local/lib/python3.10/dist-packages (from torchvision) (1.26.4)\n",
      "Requirement already satisfied: torch==2.5.0 in /usr/local/lib/python3.10/dist-packages (from torchvision) (2.5.0+cu121)\n",
      "Requirement already satisfied: pillow!=8.3.*,>=5.3.0 in /usr/local/lib/python3.10/dist-packages (from torchvision) (10.4.0)\n",
      "Requirement already satisfied: filelock in /usr/local/lib/python3.10/dist-packages (from torch==2.5.0->torchvision) (3.16.1)\n",
      "Requirement already satisfied: typing-extensions>=4.8.0 in /usr/local/lib/python3.10/dist-packages (from torch==2.5.0->torchvision) (4.12.2)\n",
      "Requirement already satisfied: networkx in /usr/local/lib/python3.10/dist-packages (from torch==2.5.0->torchvision) (3.4.2)\n",
      "Requirement already satisfied: jinja2 in /usr/local/lib/python3.10/dist-packages (from torch==2.5.0->torchvision) (3.1.4)\n",
      "Requirement already satisfied: fsspec in /usr/local/lib/python3.10/dist-packages (from torch==2.5.0->torchvision) (2024.10.0)\n",
      "Requirement already satisfied: sympy==1.13.1 in /usr/local/lib/python3.10/dist-packages (from torch==2.5.0->torchvision) (1.13.1)\n",
      "Requirement already satisfied: mpmath<1.4,>=1.1.0 in /usr/local/lib/python3.10/dist-packages (from sympy==1.13.1->torch==2.5.0->torchvision) (1.3.0)\n",
      "Requirement already satisfied: MarkupSafe>=2.0 in /usr/local/lib/python3.10/dist-packages (from jinja2->torch==2.5.0->torchvision) (3.0.2)\n",
      "Requirement already satisfied: transformers in /usr/local/lib/python3.10/dist-packages (4.44.2)\n",
      "Requirement already satisfied: filelock in /usr/local/lib/python3.10/dist-packages (from transformers) (3.16.1)\n",
      "Requirement already satisfied: huggingface-hub<1.0,>=0.23.2 in /usr/local/lib/python3.10/dist-packages (from transformers) (0.24.7)\n",
      "Requirement already satisfied: numpy>=1.17 in /usr/local/lib/python3.10/dist-packages (from transformers) (1.26.4)\n",
      "Requirement already satisfied: packaging>=20.0 in /usr/local/lib/python3.10/dist-packages (from transformers) (24.1)\n",
      "Requirement already satisfied: pyyaml>=5.1 in /usr/local/lib/python3.10/dist-packages (from transformers) (6.0.2)\n",
      "Requirement already satisfied: regex!=2019.12.17 in /usr/local/lib/python3.10/dist-packages (from transformers) (2024.9.11)\n",
      "Requirement already satisfied: requests in /usr/local/lib/python3.10/dist-packages (from transformers) (2.32.3)\n",
      "Requirement already satisfied: safetensors>=0.4.1 in /usr/local/lib/python3.10/dist-packages (from transformers) (0.4.5)\n",
      "Requirement already satisfied: tokenizers<0.20,>=0.19 in /usr/local/lib/python3.10/dist-packages (from transformers) (0.19.1)\n",
      "Requirement already satisfied: tqdm>=4.27 in /usr/local/lib/python3.10/dist-packages (from transformers) (4.66.6)\n",
      "Requirement already satisfied: fsspec>=2023.5.0 in /usr/local/lib/python3.10/dist-packages (from huggingface-hub<1.0,>=0.23.2->transformers) (2024.10.0)\n",
      "Requirement already satisfied: typing-extensions>=3.7.4.3 in /usr/local/lib/python3.10/dist-packages (from huggingface-hub<1.0,>=0.23.2->transformers) (4.12.2)\n",
      "Requirement already satisfied: charset-normalizer<4,>=2 in /usr/local/lib/python3.10/dist-packages (from requests->transformers) (3.4.0)\n",
      "Requirement already satisfied: idna<4,>=2.5 in /usr/local/lib/python3.10/dist-packages (from requests->transformers) (3.10)\n",
      "Requirement already satisfied: urllib3<3,>=1.21.1 in /usr/local/lib/python3.10/dist-packages (from requests->transformers) (2.2.3)\n",
      "Requirement already satisfied: certifi>=2017.4.17 in /usr/local/lib/python3.10/dist-packages (from requests->transformers) (2024.8.30)\n"
     ]
    }
   ],
   "source": [
    "! pip install clip\n",
    "! pip install torch\n",
    "! pip install torchvision\n",
    "! pip install transformers\n"
   ]
  },
  {
   "cell_type": "code",
   "execution_count": null,
   "metadata": {
    "id": "2wq3dB3-wOgH"
   },
   "outputs": [],
   "source": [
    "import os\n",
    "\n",
    "#### Images location --> change to the path you have your images stored in\n",
    "catalog_images_location_folder = \"/content/drive/MyDrive/Capstone Project/Data/Big basket Data_Images\" ### big basket images directory\n",
    "\n",
    "### this is where we  stored the pre-processed pkl file from the notebook 1_Pipeline_to_preprocess_catalog_data ...\n",
    "path_to_load_the_preprocessed_df = \"/content/drive/MyDrive/Capstone Project/Data/Big basket Data/preprocessed.csv\" #### where to save the new processed data frame with the description embedding?\n",
    "\n",
    "### this is where we want to save the embedding\n",
    "loction_to_load_desc_embeddings = \"/content/drive/MyDrive/Capstone Project/Data/Big basket Data/embedding.csv\" #### where to load the description embedding?\n",
    "\n",
    "#### This is the location where you want to save the category, sub-category and brand encoder-decoder\n",
    "location_to_save_encoder = 'label_encoders.pkl' ### where to save the label encoder?? --> this is important for later --> when we want to get from the \"encoded\" category/brand the actual text-label\n",
    "\n",
    "#### Locations where to save outputs from the model\n",
    "log_file = \"log_embedding_model.txt\"\n",
    "folder_to_save_embed_model = \"Tier_approach_logs_performacne/embed_model\"\n",
    "location_to_save_embedding_model_performance_in_bucket = \"Tier_approach_logs_performacne/performance_embed_model\"\n",
    "folder_to_save_products_embeddings = \"Tier_approach_logs_performacne\"\n",
    "\n",
    "\n"
   ]
  },
  {
   "cell_type": "code",
   "execution_count": 26,
   "metadata": {
    "id": "KcItykbuLyKr"
   },
   "outputs": [],
   "source": []
  },
  {
   "cell_type": "code",
   "execution_count": 27,
   "metadata": {
    "colab": {
     "base_uri": "https://localhost:8080/"
    },
    "id": "MY-KIaVu6FB0",
    "outputId": "be69d5d8-c897-420a-c931-2556a9c59e09"
   },
   "outputs": [
    {
     "name": "stdout",
     "output_type": "stream",
     "text": [
      "Using CPU\n",
      "Drive already mounted at /content/drive; to attempt to forcibly remount, call drive.mount(\"/content/drive\", force_remount=True).\n"
     ]
    }
   ],
   "source": [
    "import zipfile\n",
    "import pandas as pd\n",
    "import matplotlib.pyplot as plt\n",
    "import re\n",
    "import numpy as np\n",
    "import os\n",
    "import torch\n",
    "import clip\n",
    "import datetime\n",
    "from PIL import Image\n",
    "from tqdm import tqdm\n",
    "\n",
    "import zipfile\n",
    "from io import BytesIO\n",
    "\n",
    "import cv2\n",
    "import seaborn as sns\n",
    "\n",
    "import torch.nn as nn\n",
    "import torch.optim as optim\n",
    "from torch.utils.data import Dataset, DataLoader\n",
    "\n",
    "from torchvision import models, transforms\n",
    "from sklearn.preprocessing import LabelEncoder\n",
    "from torch.utils.data import DataLoader, random_split\n",
    "from sklearn.model_selection import train_test_split\n",
    "\n",
    "import xml.etree.ElementTree as ET\n",
    "\n",
    "if torch.cuda.is_available():\n",
    "    device = torch.device(\"cuda\")\n",
    "    print(\"Using GPU\")\n",
    "else:\n",
    "    device = torch.device(\"cpu\")\n",
    "    print(\"Using CPU\")\n",
    "# device = \"cpu\"\n",
    "DEVICE = device\n",
    "\n",
    "try:\n",
    "  ### Connect to my google drive\n",
    "  from google.colab import drive\n",
    "  drive.mount('/content/drive')\n",
    "except:\n",
    "  print(\"Could not connect to drive\")\n"
   ]
  },
  {
   "cell_type": "markdown",
   "metadata": {
    "id": "zsXnP1Bbb3br"
   },
   "source": [
    "## Reading the catalog - preprocessed data &  embeddings"
   ]
  },
  {
   "cell_type": "code",
   "execution_count": 28,
   "metadata": {
    "colab": {
     "base_uri": "https://localhost:8080/",
     "height": 660
    },
    "id": "UZUWVRZdbonl",
    "outputId": "e9cb97ab-f4c1-488a-aada-f40f900c4551"
   },
   "outputs": [
    {
     "name": "stdout",
     "output_type": "stream",
     "text": [
      "(7786, 15)\n"
     ]
    },
    {
     "data": {
      "application/vnd.google.colaboratory.intrinsic+json": {
       "summary": "{\n  \"name\": \"display(df\",\n  \"rows\": 5,\n  \"fields\": [\n    {\n      \"column\": \"Unnamed: 0\",\n      \"properties\": {\n        \"dtype\": \"number\",\n        \"std\": 1,\n        \"min\": 0,\n        \"max\": 4,\n        \"num_unique_values\": 5,\n        \"samples\": [\n          1,\n          4,\n          2\n        ],\n        \"semantic_type\": \"\",\n        \"description\": \"\"\n      }\n    },\n    {\n      \"column\": \"masterCategory\",\n      \"properties\": {\n        \"dtype\": \"category\",\n        \"num_unique_values\": 1,\n        \"samples\": [\n          \"beauty & hygiene\"\n        ],\n        \"semantic_type\": \"\",\n        \"description\": \"\"\n      }\n    },\n    {\n      \"column\": \"subCategory\",\n      \"properties\": {\n        \"dtype\": \"category\",\n        \"num_unique_values\": 1,\n        \"samples\": [\n          \"skin care\"\n        ],\n        \"semantic_type\": \"\",\n        \"description\": \"\"\n      }\n    },\n    {\n      \"column\": \"Sub_sub_Category\",\n      \"properties\": {\n        \"dtype\": \"category\",\n        \"num_unique_values\": 1,\n        \"samples\": [\n          \"aromatherapy\"\n        ],\n        \"semantic_type\": \"\",\n        \"description\": \"\"\n      }\n    },\n    {\n      \"column\": \"Product Link\",\n      \"properties\": {\n        \"dtype\": \"string\",\n        \"num_unique_values\": 5,\n        \"samples\": [\n          \"https://www.bigbasket.com/pd/40079159/soulflower-tea-tree-essential-oil-30-ml/?nc=l3category&t_pos_sec=1&t_pos_item=2&t_s=Tea+Tree+Essential+Oil+-+For+Oily+Acne+Prone+Skin+%2526+Dandruff%252C+100%2525+Pure\"\n        ],\n        \"semantic_type\": \"\",\n        \"description\": \"\"\n      }\n    },\n    {\n      \"column\": \"EAN Code\",\n      \"properties\": {\n        \"dtype\": \"string\",\n        \"num_unique_values\": 5,\n        \"samples\": [\n          \"40079159\"\n        ],\n        \"semantic_type\": \"\",\n        \"description\": \"\"\n      }\n    },\n    {\n      \"column\": \"Image Link\",\n      \"properties\": {\n        \"dtype\": \"string\",\n        \"num_unique_values\": 5,\n        \"samples\": [\n          \"https://www.bigbasket.com/media/uploads/p/l/40079159_3-soulflower-tea-tree-essential-oil.jpg\"\n        ],\n        \"semantic_type\": \"\",\n        \"description\": \"\"\n      }\n    },\n    {\n      \"column\": \"brand\",\n      \"properties\": {\n        \"dtype\": \"category\",\n        \"num_unique_values\": 2,\n        \"samples\": [\n          \"ThriveCo\"\n        ],\n        \"semantic_type\": \"\",\n        \"description\": \"\"\n      }\n    },\n    {\n      \"column\": \"SKU Name\",\n      \"properties\": {\n        \"dtype\": \"string\",\n        \"num_unique_values\": 5,\n        \"samples\": [\n          \"Soulflower Tea Tree Essential Oil - For Oily Acne Prone Skin & Dandruff, 100% Pure, 30 ml\"\n        ],\n        \"semantic_type\": \"\",\n        \"description\": \"\"\n      }\n    },\n    {\n      \"column\": \"SKU Size\",\n      \"properties\": {\n        \"dtype\": \"string\",\n        \"num_unique_values\": 3,\n        \"samples\": [\n          \"2 x 225 ml\"\n        ],\n        \"semantic_type\": \"\",\n        \"description\": \"\"\n      }\n    },\n    {\n      \"column\": \"MRP\",\n      \"properties\": {\n        \"dtype\": \"string\",\n        \"num_unique_values\": 5,\n        \"samples\": [\n          \"\\u20b9850\"\n        ],\n        \"semantic_type\": \"\",\n        \"description\": \"\"\n      }\n    },\n    {\n      \"column\": \"Description\",\n      \"properties\": {\n        \"dtype\": \"string\",\n        \"num_unique_values\": 5,\n        \"samples\": [\n          \"100% pure, natural and vegan Soulflower Tea Tree Essential Oil controls acne and pimples, lightens blemishes, soothes skin and gives antibacterial protection. It also removes dandruff giving you perfectly lustrous hair.\\nFor Skin:\\n\\nMelaleuca Alternifolia (Tea Tree) essential oil works best for oily skin types.\\nIt lightens blemishes, controls acne, pimples and dark spots, and soothes skin irritations; its antiseptic properties help you with itchy skin.\\nThis oil also controls body odour, protects from fungal infections on your body and makes your skin soft, supple and glowing.\\n\\nFor Hair and Lips:\\n\\nTea Tree essential oil helps you cleanse clogged hair follicles and gives deep nourishment to both your scalp and strands.\\nIt controls hair fall and removes dandruff.\\nThis oil helps you with dry scalp and works great in restoring frizzy, damaged hair and split ends.\\nIt conditions your chapped lips giving them a natural glow and making them soft.\\n\\nFor Diffusion:\\n\\nTea Tree essential oil\\u2019s depth of woodsy aroma gives you a clean and refreshed surrounding attuning your Ajna; The Third Eye Chakra.\\nIt is the spiritual centre for deep psychic harmony and self-realisation.\\nPhysically, it influences the eyes and brain, mental clarity, intelligence, vision, and experience.\\nThe woodsy tea tree aroma provides antibacterial protection to your surroundings.\\nIt is powerful dandruff and acne remover.\\nIt is 100% Natural, herbal, organic & vegan.\"\n        ],\n        \"semantic_type\": \"\",\n        \"description\": \"\"\n      }\n    },\n    {\n      \"column\": \"index\",\n      \"properties\": {\n        \"dtype\": \"number\",\n        \"std\": 1,\n        \"min\": 0,\n        \"max\": 4,\n        \"num_unique_values\": 5,\n        \"samples\": [\n          1\n        ],\n        \"semantic_type\": \"\",\n        \"description\": \"\"\n      }\n    },\n    {\n      \"column\": \"image_path\",\n      \"properties\": {\n        \"dtype\": \"string\",\n        \"num_unique_values\": 5,\n        \"samples\": [\n          \"/content/drive/MyDrive/Capstone Project/Data/Big basket Data_Images/Soulflower_1.jpg\"\n        ],\n        \"semantic_type\": \"\",\n        \"description\": \"\"\n      }\n    },\n    {\n      \"column\": \"Description_embedding\",\n      \"properties\": {\n        \"dtype\": \"string\",\n        \"num_unique_values\": 5,\n        \"samples\": [\n          \"tensor([-2.8287e-01,  1.5986e-01,  2.8402e-01,  4.1140e-02,  3.4167e-01,\\n         1.3106e-02,  2.0174e-01,  3.9836e-01,  5.3199e-03, -2.3064e-01,\\n        -3.7285e-02, -2.2833e-01, -7.0312e-02,  2.6056e-01, -1.2452e-01,\\n         5.0667e-01,  3.7047e-01,  1.7202e-01, -2.7667e-01,  4.2724e-01,\\n         2.2359e-01, -1.5678e-01,  8.3834e-02,  6.3555e-01,  3.8939e-01,\\n         1.1827e-02,  2.1778e-02,  1.0347e-01, -1.0452e-01, -8.8540e-02,\\n         4.6974e-01,  1.0865e-01, -1.5053e-01, -4.1417e-01,  1.6382e-01,\\n        -2.2244e-02, -7.2140e-02, -1.5821e-01, -7.4563e-02,  1.3108e-01,\\n        -6.1671e-01, -8.5573e-02, -1.2878e-02,  7.6978e-02, -1.5336e-01,\\n        -1.1605e-01,  2.8822e-02,  1.8845e-01, -9.5159e-02, -5.3387e-02,\\n        -2.2472e-01,  1.1651e-02,  6.3040e-02, -2.6235e-01,  2.0008e-01,\\n         4.4988e-01, -2.5762e-01, -8.0018e-02, -4.0641e-01, -2.9737e-01,\\n        -2.2317e-03, -2.4492e-01, -1.9691e-03, -2.2130e-01,  1.4415e-01,\\n         7.0226e-02, -4.9948e-02,  1.6963e-01, -6.6074e-01,  5.1195e-02,\\n        -1.8180e-01, -1.7004e-01, -8.9155e-02,  1.2437e-01, -1.1432e-01,\\n         2.0037e-02, -3.1584e-01,  4.9979e-02,  1.4090e-01,  1.3818e-01,\\n        -2.7283e-01,  6.2061e-02, -1.4261e-01,  3.5710e-01, -5.2044e-03,\\n         5.1923e-02, -5.4413e-02,  3.0930e-01, -2.6213e-01,  1.6734e-01,\\n         1.5754e-01, -6.8800e-02,  4.0611e-01,  1.3561e-01,  1.4005e-01,\\n        -3.1647e-01,  2.3311e-01,  6.0310e-02, -1.7389e-01,  1.2777e-01,\\n         1.3347e-01, -1.0041e-01,  1.5837e-01,  1.4858e-01, -1.7589e-01,\\n        -7.3396e-02,  7.2268e-02,  1.9863e-01, -7.9372e-02,  5.0093e-01,\\n         3.5670e-01, -1.0097e-01, -2.6870e-01, -2.6859e-01, -3.0692e-01,\\n        -1.6393e-02, -9.8615e-02,  2.2639e-02,  1.6667e-01,  2.4835e-01,\\n        -6.1015e-02, -1.4505e-01,  2.1386e-01,  5.5456e-01, -1.4203e-01,\\n         9.9494e-02, -2.4856e-01,  2.4168e-01,  1.2344e-03,  9.0040e-02,\\n         1.4866e-01,  1.8465e-01,  1.1257e-01, -2.2280e-01, -1.8525e-01,\\n         1.0751e-01, -1.3777e-01, -1.7214e-01,  6.5168e-03,  1.2950e-01,\\n        -4.2142e-02, -4.7123e-01,  2.4585e-01,  1.9398e-01,  1.0720e-01,\\n        -1.4357e-01, -1.4121e-01, -1.0153e-01,  1.6595e-01,  1.2505e-01,\\n         2.5673e-01,  4.6667e-02, -9.6995e-02, -2.9946e-01, -1.5213e-01,\\n         1.2870e-01, -2.5034e-01,  1.6022e-02,  8.8192e-03, -8.7256e-02,\\n         1.5005e-01, -1.7316e-01,  5.3672e-02,  3.1694e-01,  8.5064e-02,\\n         6.9329e-02, -1.1082e-01,  3.1397e-01, -2.6121e-01,  2.9564e-01,\\n        -1.0079e-01, -1.2938e-01,  6.6212e-01, -1.5201e-01,  3.3229e-01,\\n        -1.1375e-02,  7.8443e-02,  5.7221e-02,  8.2365e-02,  1.8132e-02,\\n        -7.1603e-01,  4.2432e-01, -2.3015e-01,  2.0516e-01,  7.2367e-02,\\n         5.3126e-03,  1.9815e-01, -1.7797e-01,  1.8052e-01, -3.1700e-01,\\n        -1.8892e-01, -1.8446e-01,  4.2137e-02,  7.0896e-02,  1.9263e-01,\\n        -1.7337e-01, -1.5577e-01, -6.4255e-02, -4.6633e-01, -1.1031e-01,\\n         1.5242e-02,  7.7532e-02,  1.1863e-01,  1.9862e-01, -2.6353e-01,\\n        -3.3159e-01,  5.9082e-02, -3.5382e-01,  3.3738e-03,  1.3191e-01,\\n        -2.4080e-01,  2.1968e-01,  1.3575e-01,  1.3214e-01, -1.2294e-02,\\n        -1.0970e-02, -7.6641e-02,  1.4252e-01,  1.3495e-01, -1.6244e-03,\\n        -7.9922e-02,  1.1794e-01, -5.1773e-01,  5.6441e-01, -2.2762e-01,\\n         6.6333e-01,  1.8369e-02, -6.0363e-01,  2.4828e-01,  4.1554e-01,\\n         7.1566e-02, -1.9601e-01,  4.7577e-01, -3.5257e-01, -2.9571e-01,\\n        -3.1418e-02,  6.6187e-03, -2.6957e-01,  3.2109e-01, -4.0499e-01,\\n        -2.6113e-01,  3.3684e-01,  2.1823e-01, -1.5572e-02, -6.4486e-02,\\n        -2.7475e-02, -1.5282e-01, -6.3097e-02, -2.6434e-01, -2.3762e-01,\\n        -3.1859e-01, -4.8937e-02, -1.5729e-01, -2.3143e-01,  7.4643e-02,\\n        -5.3226e-01, -1.9806e-01, -1.9193e-01,  1.2456e-01,  9.7958e-02,\\n         6.9419e-02, -5.6658e-02,  1.5868e-01,  7.2381e-02, -3.3019e-01,\\n        -4.1483e-01, -8.6013e-02,  2.8384e-01,  3.0668e-01, -1.6493e-02,\\n        -1.1378e-02,  1.0668e-01, -1.1544e-01,  4.0881e-01, -2.1278e-01,\\n        -2.6587e-01,  3.1085e-01,  2.2597e-01, -3.2448e-02, -1.2050e-01,\\n         1.4524e-01,  6.5182e-01, -1.9231e-01,  1.8403e-01, -2.4400e-01,\\n        -1.3895e-01,  2.5340e-01,  1.0109e-01, -2.8516e-01, -2.1437e-01,\\n        -1.2144e-01,  2.4246e-01, -2.3324e-01, -1.2620e-01,  2.2057e-01,\\n         9.3704e-02,  2.4437e-01,  7.8612e-02, -1.6068e-03, -3.4012e-01,\\n        -1.1888e-02, -3.0574e-01,  1.4122e-01,  9.0117e-02, -8.0354e-02,\\n         3.6706e-01, -8.8082e-02, -5.1180e-01, -3.8793e+00,  4.4025e-02,\\n         1.1431e-01, -2.9589e-02,  3.0454e-01, -2.2284e-01, -3.0532e-02,\\n        -3.2892e-03, -4.7359e-01,  3.5339e-01, -1.5290e-01, -2.0078e-01,\\n         2.8363e-01,  2.8980e-01,  1.7505e-01, -8.3026e-02, -1.2281e-01,\\n        -3.4205e-01, -3.4991e-02,  5.9529e-01, -8.3203e-02, -3.4426e-01,\\n         1.2959e-01,  1.4793e-01,  2.1829e-01,  4.0634e-01, -1.9913e-01,\\n        -1.7736e-01, -6.6981e-02, -1.4002e-01, -1.1771e-01, -9.0641e-02,\\n         4.5345e-02,  4.3143e-01,  7.7067e-02,  4.5652e-02, -2.5602e-01,\\n        -4.5193e-01, -9.8752e-02, -2.3361e-01, -2.2838e-01, -5.3006e-01,\\n        -4.5180e-02, -2.3612e-02,  6.8701e-01, -1.7673e-01,  1.1238e-01,\\n        -3.4702e-01,  1.2581e-01,  1.8278e-01,  7.5817e-02, -2.1119e-02,\\n        -4.3904e-01, -1.2741e-01,  3.9131e-02,  1.0359e-01,  5.7097e-01,\\n         2.0938e-01, -2.2021e-01, -4.4685e-01, -2.1396e-01,  8.0878e-03,\\n        -3.6984e-01, -5.4313e-03,  8.3420e-02,  9.3625e-02, -3.9072e-01,\\n        -2.4011e-01,  4.9586e-03,  1.3042e-02,  4.5428e-03,  2.4347e-01,\\n        -3.5456e-01, -1.4083e-01, -1.3695e-01, -2.9723e-01, -3.1125e-02,\\n        -1.2419e-01, -1.1288e-02,  9.4786e-02,  1.6198e-02, -4.1047e-01,\\n         1.7589e-01,  1.5769e-01, -2.1157e-01, -2.9409e-01,  4.8644e-02,\\n        -1.0686e-01, -3.3483e-01, -2.4854e-01,  4.8819e-01,  6.5581e-02,\\n         2.6021e-02,  4.4645e-02,  8.5196e-02, -4.6246e-02,  2.3421e-01,\\n        -4.0988e-02,  2.8718e-01, -4.4366e-01,  1.4053e-01, -1.8591e-02,\\n         6.5570e-01, -3.1621e-01,  7.8388e-02,  5.2235e-02, -2.9760e-01,\\n         2.6274e-02,  2.1756e-01, -9.9953e-02,  1.3421e-01, -2.9022e-01,\\n         2.5340e-01, -9.3535e-02,  1.5991e-01, -2.0683e-01,  2.3475e-01,\\n         5.3498e-01,  3.7269e-02, -2.4946e-01,  3.6726e-02,  4.9938e-01,\\n        -1.5124e-01, -3.3457e-01, -4.0934e-02,  4.7735e-02, -2.1605e-01,\\n         3.7292e-02, -8.0088e-03,  1.4692e-01,  6.1611e-02, -2.0672e-01,\\n        -6.7071e-02,  2.3311e-01,  2.4034e-01,  1.3930e-01, -1.3551e-01,\\n        -7.9072e-01, -4.2697e-01,  1.4772e-01,  5.1106e-02,  1.5323e-01,\\n         4.5079e-02, -1.3728e-01,  8.2013e-02,  2.7384e-01,  8.4498e-02,\\n        -1.4955e-01, -2.3985e-01,  5.8883e-02, -3.8873e-01, -9.1902e-02,\\n        -3.4307e-01, -2.0924e-01,  1.7239e-01,  3.0322e-01,  1.9354e-02,\\n         7.6756e-02, -7.4728e-02, -5.6149e-01,  1.0988e-01, -2.2491e-02,\\n         1.4224e-01,  7.6512e-02, -4.3757e-01,  2.4352e-01, -1.0505e-01,\\n        -2.4400e-01, -1.2048e-01,  6.4146e-02,  4.1360e-02, -1.4299e-01,\\n        -2.9969e-01, -1.1059e-01, -1.2590e-01,  4.7987e-01,  1.3847e-02,\\n        -2.1583e-01, -1.2876e-01,  3.1431e-01, -1.0290e-01, -1.7835e-01,\\n        -2.7051e-01, -2.6224e-01,  2.2533e-01, -1.8982e-02,  1.3701e-01,\\n        -4.3866e-01, -1.0373e-01, -4.0166e-02,  1.9404e-01,  2.6043e-01,\\n        -2.5109e-01,  8.3053e-02, -3.3799e-01,  2.2838e-02,  2.5603e-01,\\n        -7.5674e-02, -2.3226e-02,  5.6292e-02,  2.1601e-01, -2.0441e-01,\\n        -4.5913e-01,  1.3834e-01, -1.0429e-01, -4.1897e-01,  1.7996e-01,\\n         5.0837e-01, -2.6269e-01,  1.9326e-01, -1.1109e-01, -2.7218e-01,\\n        -2.4412e-01, -9.9033e-02,  2.4988e-02, -9.5926e-02, -1.0575e-01,\\n        -2.0845e-01, -2.7247e-01,  2.3036e-02, -9.2461e-02, -7.0961e-02,\\n         9.3265e-02, -6.1613e-02, -3.3641e-01, -2.0994e-01,  1.7186e-01,\\n         3.0308e-01, -1.0854e-01,  6.9119e-02,  3.6632e-01, -6.7604e-01,\\n         1.6123e-01,  9.7733e-02,  8.0021e-02,  3.0774e-01, -2.4993e-01,\\n        -6.3473e-01,  2.3365e-01, -1.1975e-01, -4.6812e-03,  9.2312e-02,\\n        -3.1411e-01, -1.2707e-01,  1.8413e-01,  3.1452e-01, -3.8876e-02,\\n         2.7537e-01, -2.5721e-01,  3.6900e-01,  1.5595e-01,  7.3008e-02,\\n         7.0424e-02, -2.5685e-01, -1.8111e-03, -4.8992e-01, -1.5523e-01,\\n         9.6148e-02, -2.0978e-01,  1.7214e-02, -1.9600e-01,  8.4611e-02,\\n         9.4464e-02,  2.4631e-01,  1.8756e-01, -1.1039e-01, -1.2346e-01,\\n        -3.4014e-02,  2.9208e-02, -4.5007e-01,  3.9813e-01, -1.5777e-01,\\n        -2.0592e-02, -1.7781e-01,  2.8837e-02,  2.4514e-01, -1.2146e-01,\\n        -4.1329e-01,  2.1239e-01, -6.2102e-01, -1.5802e-01, -8.9092e-02,\\n        -2.2881e-01, -7.8295e-02, -8.8478e-03, -5.2567e-01, -1.6552e-02,\\n         1.7487e-01, -9.5045e-02, -1.5790e-01,  2.9466e-01,  1.0425e-01,\\n        -1.3383e-01, -3.9050e-03, -2.2462e-01,  1.2783e-01,  1.6373e-01,\\n         4.9905e-01,  6.3318e-02, -1.4889e-01, -1.5613e-01,  1.0019e-01,\\n         1.9194e-01,  3.9794e-01, -7.5822e-02,  1.3685e-01,  2.7378e-01,\\n        -4.0916e-01, -1.9202e-01, -1.4959e-01, -7.2721e-02, -1.9769e-01,\\n         4.7794e-01,  3.3333e-01, -3.3005e-01, -1.5662e-01, -6.8815e-02,\\n         1.0965e-01,  2.5757e-01,  1.2717e-01,  3.3730e-01,  2.1706e-03,\\n         4.4178e-01, -6.0163e-02,  2.7618e-01,  4.9884e-01, -2.3062e-01,\\n        -1.2062e-01, -9.5948e-02,  4.0473e-01, -1.2318e-01,  2.9447e-01,\\n        -7.8026e-02,  4.0158e-01,  1.7136e-01, -8.2312e-02, -9.7707e-02,\\n         9.3004e-02, -1.8363e-01, -2.9837e-02,  2.5466e-01,  2.2198e-01,\\n         5.0370e-01,  3.6243e-01,  4.1688e-01,  2.0322e-01,  1.2471e-01,\\n         4.3116e-02,  5.8933e-01,  3.2795e-01,  1.5199e-01, -1.9466e-02,\\n         1.0838e-01, -4.9165e-02,  1.3701e-01, -5.0467e-02,  4.0539e-01,\\n         2.6967e-01, -2.3132e-01,  6.4866e-01,  4.8682e-02,  2.7284e-01,\\n         2.1501e-01, -1.2101e-01, -2.7340e-01,  1.8416e-01,  2.7001e-01,\\n        -4.2341e-01, -2.7314e-01,  2.5268e-01, -9.7943e-02,  1.0456e-01,\\n        -1.0201e-01, -2.3353e-01,  9.4893e-02,  2.5479e-01,  3.5548e-02,\\n        -1.8220e-01, -1.2303e-01,  1.9035e-01, -1.1478e-02,  5.3229e-02,\\n        -5.0704e-01, -4.1832e-01, -1.5634e-01, -7.8974e-03, -3.7749e-01,\\n        -2.2241e-01, -2.1600e-01, -1.8336e-01,  4.5166e-02,  7.8095e-02,\\n         1.5901e-01, -7.7194e-02, -1.3272e-01, -6.4359e-02,  2.7406e-01,\\n         8.8230e-02,  3.5906e-01, -2.3425e-01,  5.8634e-02, -9.7105e-02,\\n        -2.6738e-02,  1.0090e-01, -2.1216e-02, -2.6969e-02, -5.9361e-02,\\n         2.0581e-01,  3.8490e-03, -2.7069e-02, -1.2011e-02,  3.4262e-01,\\n        -3.1827e-01, -5.6999e-03, -3.9157e-02,  4.6042e-02, -9.8820e-02,\\n        -1.9094e-03, -3.4207e-01, -6.4803e-02, -1.3820e-01, -2.2560e-01,\\n        -1.0751e-01,  2.0001e-01,  6.7314e-02, -4.9822e-02,  1.7056e-01,\\n         2.7655e-01, -4.3150e-02, -1.9305e-01, -1.3210e-01,  1.8431e-01,\\n        -5.9249e-02,  3.2732e-01, -1.3458e-02, -2.5214e-01, -2.1609e-01,\\n         3.3072e-01, -4.4245e-01,  1.1016e-01,  3.3961e-01,  1.1511e-02,\\n         6.4135e-02, -1.0768e-01,  3.7021e-01, -6.2765e-02, -1.2300e-01,\\n        -3.0519e-01,  2.0599e-02, -2.3196e-01, -2.0313e-01, -2.8540e-01,\\n         2.3426e-01,  1.1924e-02,  1.6644e-02, -2.6507e-01, -1.4500e-01,\\n        -9.1886e-03, -1.6057e-01,  1.8892e-02])\"\n        ],\n        \"semantic_type\": \"\",\n        \"description\": \"\"\n      }\n    }\n  ]\n}",
       "type": "dataframe"
      },
      "text/html": [
       "\n",
       "  <div id=\"df-0e719e9e-c4eb-423b-94dc-f62334d7329b\" class=\"colab-df-container\">\n",
       "    <div>\n",
       "<style scoped>\n",
       "    .dataframe tbody tr th:only-of-type {\n",
       "        vertical-align: middle;\n",
       "    }\n",
       "\n",
       "    .dataframe tbody tr th {\n",
       "        vertical-align: top;\n",
       "    }\n",
       "\n",
       "    .dataframe thead th {\n",
       "        text-align: right;\n",
       "    }\n",
       "</style>\n",
       "<table border=\"1\" class=\"dataframe\">\n",
       "  <thead>\n",
       "    <tr style=\"text-align: right;\">\n",
       "      <th></th>\n",
       "      <th>Unnamed: 0</th>\n",
       "      <th>masterCategory</th>\n",
       "      <th>subCategory</th>\n",
       "      <th>Sub_sub_Category</th>\n",
       "      <th>Product Link</th>\n",
       "      <th>EAN Code</th>\n",
       "      <th>Image Link</th>\n",
       "      <th>brand</th>\n",
       "      <th>SKU Name</th>\n",
       "      <th>SKU Size</th>\n",
       "      <th>MRP</th>\n",
       "      <th>Description</th>\n",
       "      <th>index</th>\n",
       "      <th>image_path</th>\n",
       "      <th>Description_embedding</th>\n",
       "    </tr>\n",
       "  </thead>\n",
       "  <tbody>\n",
       "    <tr>\n",
       "      <th>0</th>\n",
       "      <td>0</td>\n",
       "      <td>beauty &amp; hygiene</td>\n",
       "      <td>skin care</td>\n",
       "      <td>aromatherapy</td>\n",
       "      <td>https://www.bigbasket.com/pd/1221014/soulflowe...</td>\n",
       "      <td>1221014</td>\n",
       "      <td>https://www.bigbasket.com/media/uploads/p/l/12...</td>\n",
       "      <td>Soulflower</td>\n",
       "      <td>Soulflower Cold Pressed Castor Oil, 2 x 225 ml...</td>\n",
       "      <td>2 x 225 ml</td>\n",
       "      <td>₹700</td>\n",
       "      <td>100% pure, natural, vegan and cold-pressed Sou...</td>\n",
       "      <td>0</td>\n",
       "      <td>/content/drive/MyDrive/Capstone Project/Data/B...</td>\n",
       "      <td>[tensor(-0.2207), tensor(0.1895), tensor(0.265...</td>\n",
       "    </tr>\n",
       "    <tr>\n",
       "      <th>1</th>\n",
       "      <td>1</td>\n",
       "      <td>beauty &amp; hygiene</td>\n",
       "      <td>skin care</td>\n",
       "      <td>aromatherapy</td>\n",
       "      <td>https://www.bigbasket.com/pd/40079159/soulflow...</td>\n",
       "      <td>40079159</td>\n",
       "      <td>https://www.bigbasket.com/media/uploads/p/l/40...</td>\n",
       "      <td>Soulflower</td>\n",
       "      <td>Soulflower Tea Tree Essential Oil - For Oily A...</td>\n",
       "      <td>30 ml</td>\n",
       "      <td>₹850</td>\n",
       "      <td>100% pure, natural and vegan Soulflower Tea Tr...</td>\n",
       "      <td>1</td>\n",
       "      <td>/content/drive/MyDrive/Capstone Project/Data/B...</td>\n",
       "      <td>[tensor(-0.2829), tensor(0.1599), tensor(0.284...</td>\n",
       "    </tr>\n",
       "    <tr>\n",
       "      <th>2</th>\n",
       "      <td>2</td>\n",
       "      <td>beauty &amp; hygiene</td>\n",
       "      <td>skin care</td>\n",
       "      <td>aromatherapy</td>\n",
       "      <td>https://www.bigbasket.com/pd/40324133/thriveco...</td>\n",
       "      <td>40324133</td>\n",
       "      <td>https://www.bigbasket.com/media/uploads/p/l/40...</td>\n",
       "      <td>ThriveCo</td>\n",
       "      <td>ThriveCo Rosemary Essential Oil - Boosts Hair ...</td>\n",
       "      <td>NaN</td>\n",
       "      <td>₹449</td>\n",
       "      <td>Rosemary oil stimulates blood circulation to t...</td>\n",
       "      <td>2</td>\n",
       "      <td>/content/drive/MyDrive/Capstone Project/Data/B...</td>\n",
       "      <td>[tensor(0.0240), tensor(0.0846), tensor(0.3332...</td>\n",
       "    </tr>\n",
       "    <tr>\n",
       "      <th>3</th>\n",
       "      <td>3</td>\n",
       "      <td>beauty &amp; hygiene</td>\n",
       "      <td>skin care</td>\n",
       "      <td>aromatherapy</td>\n",
       "      <td>https://www.bigbasket.com/pd/40079161/soulflow...</td>\n",
       "      <td>8904134017519</td>\n",
       "      <td>https://www.bigbasket.com/media/uploads/p/l/40...</td>\n",
       "      <td>Soulflower</td>\n",
       "      <td>Soulflower Peppermint Essential Oil for Hair G...</td>\n",
       "      <td>NaN</td>\n",
       "      <td>₹450</td>\n",
       "      <td>100% pure, natural and vegan Soulflower Pepper...</td>\n",
       "      <td>3</td>\n",
       "      <td>/content/drive/MyDrive/Capstone Project/Data/B...</td>\n",
       "      <td>[tensor(-0.2843), tensor(0.1343), tensor(0.308...</td>\n",
       "    </tr>\n",
       "    <tr>\n",
       "      <th>4</th>\n",
       "      <td>4</td>\n",
       "      <td>beauty &amp; hygiene</td>\n",
       "      <td>skin care</td>\n",
       "      <td>aromatherapy</td>\n",
       "      <td>https://www.bigbasket.com/pd/1220833/soulflowe...</td>\n",
       "      <td>1220833</td>\n",
       "      <td>https://www.bigbasket.com/media/uploads/p/l/12...</td>\n",
       "      <td>Soulflower</td>\n",
       "      <td>Soulflower Cold Pressed Olive Oil - For Dry Sk...</td>\n",
       "      <td>2x120 ml</td>\n",
       "      <td>₹430</td>\n",
       "      <td>Soul flower high-end olive oil will soothe, co...</td>\n",
       "      <td>4</td>\n",
       "      <td>/content/drive/MyDrive/Capstone Project/Data/B...</td>\n",
       "      <td>[tensor(-0.0666), tensor(0.2017), tensor(0.369...</td>\n",
       "    </tr>\n",
       "  </tbody>\n",
       "</table>\n",
       "</div>\n",
       "    <div class=\"colab-df-buttons\">\n",
       "\n",
       "  <div class=\"colab-df-container\">\n",
       "    <button class=\"colab-df-convert\" onclick=\"convertToInteractive('df-0e719e9e-c4eb-423b-94dc-f62334d7329b')\"\n",
       "            title=\"Convert this dataframe to an interactive table.\"\n",
       "            style=\"display:none;\">\n",
       "\n",
       "  <svg xmlns=\"http://www.w3.org/2000/svg\" height=\"24px\" viewBox=\"0 -960 960 960\">\n",
       "    <path d=\"M120-120v-720h720v720H120Zm60-500h600v-160H180v160Zm220 220h160v-160H400v160Zm0 220h160v-160H400v160ZM180-400h160v-160H180v160Zm440 0h160v-160H620v160ZM180-180h160v-160H180v160Zm440 0h160v-160H620v160Z\"/>\n",
       "  </svg>\n",
       "    </button>\n",
       "\n",
       "  <style>\n",
       "    .colab-df-container {\n",
       "      display:flex;\n",
       "      gap: 12px;\n",
       "    }\n",
       "\n",
       "    .colab-df-convert {\n",
       "      background-color: #E8F0FE;\n",
       "      border: none;\n",
       "      border-radius: 50%;\n",
       "      cursor: pointer;\n",
       "      display: none;\n",
       "      fill: #1967D2;\n",
       "      height: 32px;\n",
       "      padding: 0 0 0 0;\n",
       "      width: 32px;\n",
       "    }\n",
       "\n",
       "    .colab-df-convert:hover {\n",
       "      background-color: #E2EBFA;\n",
       "      box-shadow: 0px 1px 2px rgba(60, 64, 67, 0.3), 0px 1px 3px 1px rgba(60, 64, 67, 0.15);\n",
       "      fill: #174EA6;\n",
       "    }\n",
       "\n",
       "    .colab-df-buttons div {\n",
       "      margin-bottom: 4px;\n",
       "    }\n",
       "\n",
       "    [theme=dark] .colab-df-convert {\n",
       "      background-color: #3B4455;\n",
       "      fill: #D2E3FC;\n",
       "    }\n",
       "\n",
       "    [theme=dark] .colab-df-convert:hover {\n",
       "      background-color: #434B5C;\n",
       "      box-shadow: 0px 1px 3px 1px rgba(0, 0, 0, 0.15);\n",
       "      filter: drop-shadow(0px 1px 2px rgba(0, 0, 0, 0.3));\n",
       "      fill: #FFFFFF;\n",
       "    }\n",
       "  </style>\n",
       "\n",
       "    <script>\n",
       "      const buttonEl =\n",
       "        document.querySelector('#df-0e719e9e-c4eb-423b-94dc-f62334d7329b button.colab-df-convert');\n",
       "      buttonEl.style.display =\n",
       "        google.colab.kernel.accessAllowed ? 'block' : 'none';\n",
       "\n",
       "      async function convertToInteractive(key) {\n",
       "        const element = document.querySelector('#df-0e719e9e-c4eb-423b-94dc-f62334d7329b');\n",
       "        const dataTable =\n",
       "          await google.colab.kernel.invokeFunction('convertToInteractive',\n",
       "                                                    [key], {});\n",
       "        if (!dataTable) return;\n",
       "\n",
       "        const docLinkHtml = 'Like what you see? Visit the ' +\n",
       "          '<a target=\"_blank\" href=https://colab.research.google.com/notebooks/data_table.ipynb>data table notebook</a>'\n",
       "          + ' to learn more about interactive tables.';\n",
       "        element.innerHTML = '';\n",
       "        dataTable['output_type'] = 'display_data';\n",
       "        await google.colab.output.renderOutput(dataTable, element);\n",
       "        const docLink = document.createElement('div');\n",
       "        docLink.innerHTML = docLinkHtml;\n",
       "        element.appendChild(docLink);\n",
       "      }\n",
       "    </script>\n",
       "  </div>\n",
       "\n",
       "\n",
       "<div id=\"df-0d6e1367-2649-4dc5-acc1-35fec53a916b\">\n",
       "  <button class=\"colab-df-quickchart\" onclick=\"quickchart('df-0d6e1367-2649-4dc5-acc1-35fec53a916b')\"\n",
       "            title=\"Suggest charts\"\n",
       "            style=\"display:none;\">\n",
       "\n",
       "<svg xmlns=\"http://www.w3.org/2000/svg\" height=\"24px\"viewBox=\"0 0 24 24\"\n",
       "     width=\"24px\">\n",
       "    <g>\n",
       "        <path d=\"M19 3H5c-1.1 0-2 .9-2 2v14c0 1.1.9 2 2 2h14c1.1 0 2-.9 2-2V5c0-1.1-.9-2-2-2zM9 17H7v-7h2v7zm4 0h-2V7h2v10zm4 0h-2v-4h2v4z\"/>\n",
       "    </g>\n",
       "</svg>\n",
       "  </button>\n",
       "\n",
       "<style>\n",
       "  .colab-df-quickchart {\n",
       "      --bg-color: #E8F0FE;\n",
       "      --fill-color: #1967D2;\n",
       "      --hover-bg-color: #E2EBFA;\n",
       "      --hover-fill-color: #174EA6;\n",
       "      --disabled-fill-color: #AAA;\n",
       "      --disabled-bg-color: #DDD;\n",
       "  }\n",
       "\n",
       "  [theme=dark] .colab-df-quickchart {\n",
       "      --bg-color: #3B4455;\n",
       "      --fill-color: #D2E3FC;\n",
       "      --hover-bg-color: #434B5C;\n",
       "      --hover-fill-color: #FFFFFF;\n",
       "      --disabled-bg-color: #3B4455;\n",
       "      --disabled-fill-color: #666;\n",
       "  }\n",
       "\n",
       "  .colab-df-quickchart {\n",
       "    background-color: var(--bg-color);\n",
       "    border: none;\n",
       "    border-radius: 50%;\n",
       "    cursor: pointer;\n",
       "    display: none;\n",
       "    fill: var(--fill-color);\n",
       "    height: 32px;\n",
       "    padding: 0;\n",
       "    width: 32px;\n",
       "  }\n",
       "\n",
       "  .colab-df-quickchart:hover {\n",
       "    background-color: var(--hover-bg-color);\n",
       "    box-shadow: 0 1px 2px rgba(60, 64, 67, 0.3), 0 1px 3px 1px rgba(60, 64, 67, 0.15);\n",
       "    fill: var(--button-hover-fill-color);\n",
       "  }\n",
       "\n",
       "  .colab-df-quickchart-complete:disabled,\n",
       "  .colab-df-quickchart-complete:disabled:hover {\n",
       "    background-color: var(--disabled-bg-color);\n",
       "    fill: var(--disabled-fill-color);\n",
       "    box-shadow: none;\n",
       "  }\n",
       "\n",
       "  .colab-df-spinner {\n",
       "    border: 2px solid var(--fill-color);\n",
       "    border-color: transparent;\n",
       "    border-bottom-color: var(--fill-color);\n",
       "    animation:\n",
       "      spin 1s steps(1) infinite;\n",
       "  }\n",
       "\n",
       "  @keyframes spin {\n",
       "    0% {\n",
       "      border-color: transparent;\n",
       "      border-bottom-color: var(--fill-color);\n",
       "      border-left-color: var(--fill-color);\n",
       "    }\n",
       "    20% {\n",
       "      border-color: transparent;\n",
       "      border-left-color: var(--fill-color);\n",
       "      border-top-color: var(--fill-color);\n",
       "    }\n",
       "    30% {\n",
       "      border-color: transparent;\n",
       "      border-left-color: var(--fill-color);\n",
       "      border-top-color: var(--fill-color);\n",
       "      border-right-color: var(--fill-color);\n",
       "    }\n",
       "    40% {\n",
       "      border-color: transparent;\n",
       "      border-right-color: var(--fill-color);\n",
       "      border-top-color: var(--fill-color);\n",
       "    }\n",
       "    60% {\n",
       "      border-color: transparent;\n",
       "      border-right-color: var(--fill-color);\n",
       "    }\n",
       "    80% {\n",
       "      border-color: transparent;\n",
       "      border-right-color: var(--fill-color);\n",
       "      border-bottom-color: var(--fill-color);\n",
       "    }\n",
       "    90% {\n",
       "      border-color: transparent;\n",
       "      border-bottom-color: var(--fill-color);\n",
       "    }\n",
       "  }\n",
       "</style>\n",
       "\n",
       "  <script>\n",
       "    async function quickchart(key) {\n",
       "      const quickchartButtonEl =\n",
       "        document.querySelector('#' + key + ' button');\n",
       "      quickchartButtonEl.disabled = true;  // To prevent multiple clicks.\n",
       "      quickchartButtonEl.classList.add('colab-df-spinner');\n",
       "      try {\n",
       "        const charts = await google.colab.kernel.invokeFunction(\n",
       "            'suggestCharts', [key], {});\n",
       "      } catch (error) {\n",
       "        console.error('Error during call to suggestCharts:', error);\n",
       "      }\n",
       "      quickchartButtonEl.classList.remove('colab-df-spinner');\n",
       "      quickchartButtonEl.classList.add('colab-df-quickchart-complete');\n",
       "    }\n",
       "    (() => {\n",
       "      let quickchartButtonEl =\n",
       "        document.querySelector('#df-0d6e1367-2649-4dc5-acc1-35fec53a916b button');\n",
       "      quickchartButtonEl.style.display =\n",
       "        google.colab.kernel.accessAllowed ? 'block' : 'none';\n",
       "    })();\n",
       "  </script>\n",
       "</div>\n",
       "\n",
       "    </div>\n",
       "  </div>\n"
      ],
      "text/plain": [
       "   Unnamed: 0    masterCategory subCategory Sub_sub_Category  \\\n",
       "0           0  beauty & hygiene   skin care     aromatherapy   \n",
       "1           1  beauty & hygiene   skin care     aromatherapy   \n",
       "2           2  beauty & hygiene   skin care     aromatherapy   \n",
       "3           3  beauty & hygiene   skin care     aromatherapy   \n",
       "4           4  beauty & hygiene   skin care     aromatherapy   \n",
       "\n",
       "                                        Product Link       EAN Code  \\\n",
       "0  https://www.bigbasket.com/pd/1221014/soulflowe...        1221014   \n",
       "1  https://www.bigbasket.com/pd/40079159/soulflow...       40079159   \n",
       "2  https://www.bigbasket.com/pd/40324133/thriveco...       40324133   \n",
       "3  https://www.bigbasket.com/pd/40079161/soulflow...  8904134017519   \n",
       "4  https://www.bigbasket.com/pd/1220833/soulflowe...        1220833   \n",
       "\n",
       "                                          Image Link       brand  \\\n",
       "0  https://www.bigbasket.com/media/uploads/p/l/12...  Soulflower   \n",
       "1  https://www.bigbasket.com/media/uploads/p/l/40...  Soulflower   \n",
       "2  https://www.bigbasket.com/media/uploads/p/l/40...    ThriveCo   \n",
       "3  https://www.bigbasket.com/media/uploads/p/l/40...  Soulflower   \n",
       "4  https://www.bigbasket.com/media/uploads/p/l/12...  Soulflower   \n",
       "\n",
       "                                            SKU Name    SKU Size   MRP  \\\n",
       "0  Soulflower Cold Pressed Castor Oil, 2 x 225 ml...  2 x 225 ml  ₹700   \n",
       "1  Soulflower Tea Tree Essential Oil - For Oily A...       30 ml  ₹850   \n",
       "2  ThriveCo Rosemary Essential Oil - Boosts Hair ...         NaN  ₹449   \n",
       "3  Soulflower Peppermint Essential Oil for Hair G...         NaN  ₹450   \n",
       "4  Soulflower Cold Pressed Olive Oil - For Dry Sk...    2x120 ml  ₹430   \n",
       "\n",
       "                                         Description  index  \\\n",
       "0  100% pure, natural, vegan and cold-pressed Sou...      0   \n",
       "1  100% pure, natural and vegan Soulflower Tea Tr...      1   \n",
       "2  Rosemary oil stimulates blood circulation to t...      2   \n",
       "3  100% pure, natural and vegan Soulflower Pepper...      3   \n",
       "4  Soul flower high-end olive oil will soothe, co...      4   \n",
       "\n",
       "                                          image_path  \\\n",
       "0  /content/drive/MyDrive/Capstone Project/Data/B...   \n",
       "1  /content/drive/MyDrive/Capstone Project/Data/B...   \n",
       "2  /content/drive/MyDrive/Capstone Project/Data/B...   \n",
       "3  /content/drive/MyDrive/Capstone Project/Data/B...   \n",
       "4  /content/drive/MyDrive/Capstone Project/Data/B...   \n",
       "\n",
       "                               Description_embedding  \n",
       "0  [tensor(-0.2207), tensor(0.1895), tensor(0.265...  \n",
       "1  [tensor(-0.2829), tensor(0.1599), tensor(0.284...  \n",
       "2  [tensor(0.0240), tensor(0.0846), tensor(0.3332...  \n",
       "3  [tensor(-0.2843), tensor(0.1343), tensor(0.308...  \n",
       "4  [tensor(-0.0666), tensor(0.2017), tensor(0.369...  "
      ]
     },
     "metadata": {},
     "output_type": "display_data"
    }
   ],
   "source": [
    "#### logic to combine the embedding and the description-embedding table\n",
    "df_preprocessed = pd.read_csv(path_to_load_the_preprocessed_df)\n",
    "df_embeddings = pd.read_csv(loction_to_load_desc_embeddings)\n",
    "df_embeddings = df_embeddings.dropna() ### drop embedding rows that have NAs\n",
    "\n",
    "embedding_columns = df_embeddings.columns[2:] ### these are all the embedding columns\n",
    "\n",
    "df_embeddings['Description_embedding'] = df_embeddings[embedding_columns].values.tolist()\n",
    "### convert Description_embedding column to tensor\n",
    "df_embeddings['Description_embedding'] = df_embeddings['Description_embedding'].apply(lambda x: torch.tensor(x, dtype=torch.float))\n",
    "\n",
    "df = pd.merge(df_preprocessed, df_embeddings[['image_path','Description_embedding']], on = \"image_path\", how = \"inner\")\n",
    "\n",
    "print(df.shape)\n",
    "display(df.head())"
   ]
  },
  {
   "cell_type": "code",
   "execution_count": 29,
   "metadata": {
    "colab": {
     "base_uri": "https://localhost:8080/"
    },
    "id": "NpYOsbqyka4V",
    "outputId": "38d04050-ba3c-40de-c1fd-9699fb97bb33"
   },
   "outputs": [
    {
     "name": "stdout",
     "output_type": "stream",
     "text": [
      "Number of rows before: 7786\n",
      "Number of rows removed: 0\n",
      "Number of rows now: 7786\n"
     ]
    }
   ],
   "source": [
    "### remove rows with NA value in column 'image_path'\n",
    "num_rows_before = df.shape[0]\n",
    "df.dropna(subset=['image_path'], inplace=True)\n",
    "\n",
    "num_rows_after = df.shape[0]\n",
    "rows_removed = num_rows_before - num_rows_after\n",
    "\n",
    "print(f'Number of rows before: {num_rows_before}')\n",
    "print(f'Number of rows removed: {rows_removed}')\n",
    "print(f'Number of rows now: {df.shape[0]}')"
   ]
  },
  {
   "cell_type": "markdown",
   "metadata": {
    "id": "x_78KSYHDgOf"
   },
   "source": [
    "### Let's see an example for an image in the dataset"
   ]
  },
  {
   "cell_type": "code",
   "execution_count": 30,
   "metadata": {
    "colab": {
     "base_uri": "https://localhost:8080/",
     "height": 802
    },
    "id": "J7ntwjZN6FEm",
    "outputId": "22f5bc60-aad0-4018-9566-b4987babbb98"
   },
   "outputs": [
    {
     "data": {
      "text/html": [
       "<div>\n",
       "<style scoped>\n",
       "    .dataframe tbody tr th:only-of-type {\n",
       "        vertical-align: middle;\n",
       "    }\n",
       "\n",
       "    .dataframe tbody tr th {\n",
       "        vertical-align: top;\n",
       "    }\n",
       "\n",
       "    .dataframe thead th {\n",
       "        text-align: right;\n",
       "    }\n",
       "</style>\n",
       "<table border=\"1\" class=\"dataframe\">\n",
       "  <thead>\n",
       "    <tr style=\"text-align: right;\">\n",
       "      <th></th>\n",
       "      <th>56</th>\n",
       "    </tr>\n",
       "  </thead>\n",
       "  <tbody>\n",
       "    <tr>\n",
       "      <th>Unnamed: 0</th>\n",
       "      <td>57</td>\n",
       "    </tr>\n",
       "    <tr>\n",
       "      <th>masterCategory</th>\n",
       "      <td>beauty &amp; hygiene</td>\n",
       "    </tr>\n",
       "    <tr>\n",
       "      <th>subCategory</th>\n",
       "      <td>skin care</td>\n",
       "    </tr>\n",
       "    <tr>\n",
       "      <th>Sub_sub_Category</th>\n",
       "      <td>aromatherapy</td>\n",
       "    </tr>\n",
       "    <tr>\n",
       "      <th>Product Link</th>\n",
       "      <td>https://www.bigbasket.com/pd/40034182/organic-...</td>\n",
       "    </tr>\n",
       "    <tr>\n",
       "      <th>EAN Code</th>\n",
       "      <td>40034182</td>\n",
       "    </tr>\n",
       "    <tr>\n",
       "      <th>Image Link</th>\n",
       "      <td>https://www.bigbasket.com/media/uploads/p/l/40...</td>\n",
       "    </tr>\n",
       "    <tr>\n",
       "      <th>brand</th>\n",
       "      <td>Organic Harvest</td>\n",
       "    </tr>\n",
       "    <tr>\n",
       "      <th>SKU Name</th>\n",
       "      <td>Organic Harvest Grapeseed Oil, 60 ml</td>\n",
       "    </tr>\n",
       "    <tr>\n",
       "      <th>SKU Size</th>\n",
       "      <td>60 ml</td>\n",
       "    </tr>\n",
       "    <tr>\n",
       "      <th>MRP</th>\n",
       "      <td>₹445.5</td>\n",
       "    </tr>\n",
       "    <tr>\n",
       "      <th>Description</th>\n",
       "      <td>This Pure Grapeseed oil is non-sticky, which l...</td>\n",
       "    </tr>\n",
       "    <tr>\n",
       "      <th>index</th>\n",
       "      <td>57</td>\n",
       "    </tr>\n",
       "    <tr>\n",
       "      <th>image_path</th>\n",
       "      <td>/content/drive/MyDrive/Capstone Project/Data/B...</td>\n",
       "    </tr>\n",
       "    <tr>\n",
       "      <th>Description_embedding</th>\n",
       "      <td>[tensor(-0.3536), tensor(0.0399), tensor(0.077...</td>\n",
       "    </tr>\n",
       "  </tbody>\n",
       "</table>\n",
       "</div><br><label><b>dtype:</b> object</label>"
      ],
      "text/plain": [
       "Unnamed: 0                                                              57\n",
       "masterCategory                                            beauty & hygiene\n",
       "subCategory                                                      skin care\n",
       "Sub_sub_Category                                              aromatherapy\n",
       "Product Link             https://www.bigbasket.com/pd/40034182/organic-...\n",
       "EAN Code                                                          40034182\n",
       "Image Link               https://www.bigbasket.com/media/uploads/p/l/40...\n",
       "brand                                                      Organic Harvest\n",
       "SKU Name                              Organic Harvest Grapeseed Oil, 60 ml\n",
       "SKU Size                                                             60 ml\n",
       "MRP                                                                 ₹445.5\n",
       "Description              This Pure Grapeseed oil is non-sticky, which l...\n",
       "index                                                                   57\n",
       "image_path               /content/drive/MyDrive/Capstone Project/Data/B...\n",
       "Description_embedding    [tensor(-0.3536), tensor(0.0399), tensor(0.077...\n",
       "Name: 56, dtype: object"
      ]
     },
     "metadata": {},
     "output_type": "display_data"
    },
    {
     "data": {
      "text/html": [
       "<style>\n",
       "      .ndarray_repr .ndarray_raw_data {\n",
       "        display: none;\n",
       "      }\n",
       "      .ndarray_repr.show_array .ndarray_raw_data {\n",
       "        display: block;\n",
       "      }\n",
       "      .ndarray_repr.show_array .ndarray_image_preview {\n",
       "        display: none;\n",
       "      }\n",
       "      </style>\n",
       "      <div id=\"id-8a0d62ab-4bb9-494e-8be9-5bbba34cd082\" class=\"ndarray_repr\"><pre>ndarray (224, 224, 3) <button style=\"padding: 0 2px;\">show data</button></pre><img src=\"data:image/png;base64,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\" class=\"ndarray_image_preview\" /><pre class=\"ndarray_raw_data\">array([[[ 76, 112,  71],\n",
       "        [ 76, 112,  71],\n",
       "        [ 76, 112,  71],\n",
       "        ...,\n",
       "        [ 76, 112,  71],\n",
       "        [ 76, 112,  71],\n",
       "        [ 76, 112,  71]],\n",
       "\n",
       "       [[ 76, 112,  71],\n",
       "        [ 76, 112,  71],\n",
       "        [ 76, 112,  71],\n",
       "        ...,\n",
       "        [ 76, 112,  71],\n",
       "        [ 76, 112,  71],\n",
       "        [ 76, 112,  71]],\n",
       "\n",
       "       [[ 76, 112,  71],\n",
       "        [ 76, 112,  71],\n",
       "        [ 76, 112,  71],\n",
       "        ...,\n",
       "        [ 76, 112,  71],\n",
       "        [ 76, 112,  71],\n",
       "        [ 76, 112,  71]],\n",
       "\n",
       "       ...,\n",
       "\n",
       "       [[ 76, 112,  71],\n",
       "        [ 76, 112,  71],\n",
       "        [ 76, 112,  71],\n",
       "        ...,\n",
       "        [ 76, 112,  71],\n",
       "        [ 76, 112,  71],\n",
       "        [ 76, 112,  71]],\n",
       "\n",
       "       [[ 76, 112,  71],\n",
       "        [ 76, 112,  71],\n",
       "        [ 76, 112,  71],\n",
       "        ...,\n",
       "        [ 76, 112,  71],\n",
       "        [ 76, 112,  71],\n",
       "        [ 76, 112,  71]],\n",
       "\n",
       "       [[ 76, 112,  71],\n",
       "        [ 76, 112,  71],\n",
       "        [ 76, 112,  71],\n",
       "        ...,\n",
       "        [ 76, 112,  71],\n",
       "        [ 76, 112,  71],\n",
       "        [ 76, 112,  71]]], dtype=uint8)</pre></div><script>\n",
       "      (() => {\n",
       "      const titles = ['show data', 'hide data'];\n",
       "      let index = 0\n",
       "      document.querySelector('#id-8a0d62ab-4bb9-494e-8be9-5bbba34cd082 button').onclick = (e) => {\n",
       "        document.querySelector('#id-8a0d62ab-4bb9-494e-8be9-5bbba34cd082').classList.toggle('show_array');\n",
       "        index = (++index) % 2;\n",
       "        document.querySelector('#id-8a0d62ab-4bb9-494e-8be9-5bbba34cd082 button').textContent = titles[index];\n",
       "        e.preventDefault();\n",
       "        e.stopPropagation();\n",
       "      }\n",
       "      })();\n",
       "    </script>"
      ],
      "text/plain": [
       "array([[[ 76, 112,  71],\n",
       "        [ 76, 112,  71],\n",
       "        [ 76, 112,  71],\n",
       "        ...,\n",
       "        [ 76, 112,  71],\n",
       "        [ 76, 112,  71],\n",
       "        [ 76, 112,  71]],\n",
       "\n",
       "       [[ 76, 112,  71],\n",
       "        [ 76, 112,  71],\n",
       "        [ 76, 112,  71],\n",
       "        ...,\n",
       "        [ 76, 112,  71],\n",
       "        [ 76, 112,  71],\n",
       "        [ 76, 112,  71]],\n",
       "\n",
       "       [[ 76, 112,  71],\n",
       "        [ 76, 112,  71],\n",
       "        [ 76, 112,  71],\n",
       "        ...,\n",
       "        [ 76, 112,  71],\n",
       "        [ 76, 112,  71],\n",
       "        [ 76, 112,  71]],\n",
       "\n",
       "       ...,\n",
       "\n",
       "       [[ 76, 112,  71],\n",
       "        [ 76, 112,  71],\n",
       "        [ 76, 112,  71],\n",
       "        ...,\n",
       "        [ 76, 112,  71],\n",
       "        [ 76, 112,  71],\n",
       "        [ 76, 112,  71]],\n",
       "\n",
       "       [[ 76, 112,  71],\n",
       "        [ 76, 112,  71],\n",
       "        [ 76, 112,  71],\n",
       "        ...,\n",
       "        [ 76, 112,  71],\n",
       "        [ 76, 112,  71],\n",
       "        [ 76, 112,  71]],\n",
       "\n",
       "       [[ 76, 112,  71],\n",
       "        [ 76, 112,  71],\n",
       "        [ 76, 112,  71],\n",
       "        ...,\n",
       "        [ 76, 112,  71],\n",
       "        [ 76, 112,  71],\n",
       "        [ 76, 112,  71]]], dtype=uint8)"
      ]
     },
     "metadata": {},
     "output_type": "display_data"
    }
   ],
   "source": [
    "idx_to_display = 56\n",
    "resize_image = True\n",
    "display_image = True\n",
    "\n",
    "a = df.iloc[idx_to_display]\n",
    "display(a)\n",
    "\n",
    "specific_image_path = a[\"image_path\"]\n",
    "image = Image.open(specific_image_path)\n",
    "\n",
    "if display_image:\n",
    "  image = Image.open(specific_image_path)\n",
    "  if resize_image:\n",
    "    import cv2\n",
    "    im = cv2.imread(specific_image_path)\n",
    "    im_resized = cv2.resize(im, (224, 224))\n",
    "    display(im_resized)\n",
    "  else:\n",
    "    display(image)\n"
   ]
  },
  {
   "cell_type": "markdown",
   "metadata": {
    "id": "HaDjLzqTF0pn"
   },
   "source": [
    "## Define dataset"
   ]
  },
  {
   "cell_type": "code",
   "execution_count": 31,
   "metadata": {
    "id": "LeCQx2dXiSLZ"
   },
   "outputs": [],
   "source": [
    "# Custom dataset class\n",
    "class Dataset(Dataset):\n",
    "    def __init__(self, dataframe, transform=None):\n",
    "        self.dataframe = dataframe\n",
    "        self.transform = transform\n",
    "\n",
    "    def __len__(self):\n",
    "        return len(self.dataframe)\n",
    "\n",
    "    def __getitem__(self, idx):\n",
    "        row = self.dataframe.iloc[idx]\n",
    "        img_path = row['image_path']\n",
    "        img = Image.open(img_path).convert(\"RGB\")  # Load image in RGB mode\n",
    "\n",
    "        if self.transform:\n",
    "            img = self.transform(img)\n",
    "\n",
    "        # Extract labels\n",
    "        master_category = torch.tensor(row['masterCategory'], dtype=torch.long)\n",
    "        sub_category = torch.tensor(row['subCategory'], dtype=torch.long)\n",
    "        brand = torch.tensor(row['brand'], dtype=torch.long)\n",
    "\n",
    "        description = torch.tensor(row['Description_embedding'], dtype = torch.float)\n",
    "\n",
    "        # Convert description embedding from string to float tensor\n",
    "        # description = [float(val) for val in row['Description_embedding'].split(' ')]  # Convert to list of floats\n",
    "        # description = torch.tensor(description, dtype=torch.float)\n",
    "\n",
    "        return img, master_category, sub_category, brand, description"
   ]
  },
  {
   "cell_type": "markdown",
   "metadata": {
    "id": "ioOW8zYaJL0Q"
   },
   "source": [
    "### Remove brands that appear only once in the dataset, so then we can stratify accoridng to brand"
   ]
  },
  {
   "cell_type": "code",
   "execution_count": 32,
   "metadata": {
    "colab": {
     "base_uri": "https://localhost:8080/"
    },
    "id": "_W39JbrWzYai",
    "outputId": "86e1a708-1d56-4b36-8172-7c97a1071db5"
   },
   "outputs": [
    {
     "name": "stdout",
     "output_type": "stream",
     "text": [
      "Number of rows removed: 0\n"
     ]
    }
   ],
   "source": [
    "import pandas as pd\n",
    "\n",
    "# Assuming 'df' is your DataFrame and 'brand' is the column name\n",
    "brand_counts = df['brand'].value_counts()\n",
    "\n",
    "# Filter to keep only brands that appear more than once\n",
    "brands_to_keep = brand_counts[brand_counts > 1].index\n",
    "\n",
    "# Filter the original DataFrame to keep only those brands\n",
    "df = df[df['brand'].isin(brands_to_keep)]\n",
    "\n",
    "# Calculate the number of rows removed\n",
    "rows_removed = len(df) - len(df)\n",
    "\n",
    "# Display the number of rows removed\n",
    "print(f\"Number of rows removed: {rows_removed}\")\n"
   ]
  },
  {
   "cell_type": "code",
   "execution_count": 33,
   "metadata": {
    "colab": {
     "base_uri": "https://localhost:8080/"
    },
    "id": "vEJv3uisBAVp",
    "outputId": "420d17be-bb64-4e64-c39e-bab8c181e896"
   },
   "outputs": [
    {
     "name": "stdout",
     "output_type": "stream",
     "text": [
      "Number of categories: 1\n",
      "Number of sub categories: 8\n",
      "Number of brands: 412\n",
      "Number of rows in the dataset: 7670\n"
     ]
    }
   ],
   "source": [
    "num_categories = len(df[\"masterCategory\"].unique())\n",
    "num_subCategory = len(df[\"subCategory\"].unique())\n",
    "num_brand = len(df[\"brand\"].unique())\n",
    "\n",
    "print(f\"Number of categories: {num_categories}\")\n",
    "print(f\"Number of sub categories: {num_subCategory}\")\n",
    "print(f\"Number of brands: {num_brand}\")\n",
    "print(f\"Number of rows in the dataset: {df.shape[0]}\")"
   ]
  },
  {
   "cell_type": "markdown",
   "metadata": {
    "id": "Y5ZkMWIfGPOe"
   },
   "source": [
    "### Define encoder"
   ]
  },
  {
   "cell_type": "code",
   "execution_count": 34,
   "metadata": {
    "colab": {
     "base_uri": "https://localhost:8080/"
    },
    "id": "H7NQahOEBAVp",
    "outputId": "116b457b-79ff-4462-b163-347fdcf5f5bc"
   },
   "outputs": [
    {
     "name": "stderr",
     "output_type": "stream",
     "text": [
      "<ipython-input-34-7eccca53fda8>:11: SettingWithCopyWarning: \n",
      "A value is trying to be set on a copy of a slice from a DataFrame.\n",
      "Try using .loc[row_indexer,col_indexer] = value instead\n",
      "\n",
      "See the caveats in the documentation: https://pandas.pydata.org/pandas-docs/stable/user_guide/indexing.html#returning-a-view-versus-a-copy\n",
      "  df[col] = le.fit_transform(df[col])\n",
      "<ipython-input-34-7eccca53fda8>:11: SettingWithCopyWarning: \n",
      "A value is trying to be set on a copy of a slice from a DataFrame.\n",
      "Try using .loc[row_indexer,col_indexer] = value instead\n",
      "\n",
      "See the caveats in the documentation: https://pandas.pydata.org/pandas-docs/stable/user_guide/indexing.html#returning-a-view-versus-a-copy\n",
      "  df[col] = le.fit_transform(df[col])\n",
      "<ipython-input-34-7eccca53fda8>:11: SettingWithCopyWarning: \n",
      "A value is trying to be set on a copy of a slice from a DataFrame.\n",
      "Try using .loc[row_indexer,col_indexer] = value instead\n",
      "\n",
      "See the caveats in the documentation: https://pandas.pydata.org/pandas-docs/stable/user_guide/indexing.html#returning-a-view-versus-a-copy\n",
      "  df[col] = le.fit_transform(df[col])\n"
     ]
    }
   ],
   "source": [
    "# Define the image size and batch size\n",
    "IMG_SIZE = (224, 224)\n",
    "BATCH_SIZE = 64\n",
    "# DEVICE = \"cpu\"\n",
    "device = DEVICE\n",
    "\n",
    "# Encode labels for masterCategory, subCategory, and brand\n",
    "label_encoders = {}\n",
    "for col in ['masterCategory', 'subCategory', 'brand']:\n",
    "    le = LabelEncoder()\n",
    "    df[col] = le.fit_transform(df[col])\n",
    "    label_encoders[col] = le\n",
    "\n",
    "# Transform for image preprocessing\n",
    "transform = transforms.Compose([\n",
    "    transforms.Resize(IMG_SIZE),\n",
    "    transforms.ToTensor(),\n",
    "    transforms.Normalize([0.485, 0.456, 0.406], [0.229, 0.224, 0.225])  # ResNet normalization\n",
    "])\n",
    "\n",
    "### save the label encoder\n",
    "import pickle\n",
    "\n",
    "# Save label encoders to a pickle file\n",
    "with open(location_to_save_encoder, 'wb') as f:\n",
    "    pickle.dump(label_encoders, f)\n",
    "\n",
    "# # Load label encoders from a pickle file\n",
    "# with open('location_to_save_encoder.pkl', 'rb') as f:\n",
    "#     label_encoders = pickle.load(f)"
   ]
  },
  {
   "cell_type": "code",
   "execution_count": 35,
   "metadata": {
    "colab": {
     "base_uri": "https://localhost:8080/"
    },
    "id": "iizESoiU6FMq",
    "outputId": "cd039557-7f33-4148-d789-949dce301f58"
   },
   "outputs": [
    {
     "name": "stdout",
     "output_type": "stream",
     "text": [
      "1 -> split train-test and keep the brand distribution equal in train-test\n",
      "unique brands in train set:  412\n",
      "unique brands in test set:  351\n",
      "\n",
      "unique subCategory in train set:  8\n",
      "unique subCategory in test set:  6\n",
      "\n",
      "unique masterCategory in train set:  1\n",
      "unique masterCategory in test set:  1\n",
      "Train dataset size: 6136\n",
      "Test dataset size: 1534\n"
     ]
    }
   ],
   "source": [
    "\n",
    "dataset = Dataset(df, transform=transform)\n",
    "\n",
    "dataloader = DataLoader(dataset, batch_size=BATCH_SIZE, shuffle=True)\n",
    "\n",
    "train_ratio = 0.8\n",
    "test_ratio = 0.2\n",
    "\n",
    "try:\n",
    "  ### trying to split train-test and keep the \"brand\" distribution equal in train-test\n",
    "  train_df, test_df = train_test_split(df, test_size=test_ratio, stratify=df['brand'])\n",
    "  print(\"1 -> split train-test and keep the brand distribution equal in train-test\")\n",
    "\n",
    "except:\n",
    "  try:\n",
    "      ### trying to split train-test and keep the \"subCategory\" distribution equal in train-test\n",
    "      train_df, test_df = train_test_split(df, test_size=test_ratio, stratify=df['subCategory'])\n",
    "      print(\"2 -> split train-test and keep the subCategory distribution equal in train-test\")\n",
    "\n",
    "  except:\n",
    "    try:\n",
    "        ### trying to split train-test and keep the \"masterCategory\" distribution equal in train-test\n",
    "        train_df, test_df = train_test_split(df, test_size=test_ratio, stratify=df['masterCategory'])\n",
    "        print(\"3 -> split train-test and keep the masterCategory distribution equal in train-test\")\n",
    "    except:\n",
    "        train_df, test_df = train_test_split(df, test_size=test_ratio)\n",
    "        print(\"4 -> split train-test\")\n",
    "\n",
    "# TODO: why different number of unique brands?\n",
    "print('unique brands in train set: ', len(train_df['brand'].unique()))\n",
    "print('unique brands in test set: ', len(test_df['brand'].unique()))\n",
    "print()\n",
    "print('unique subCategory in train set: ', len(train_df['subCategory'].unique()))\n",
    "print('unique subCategory in test set: ', len(test_df['subCategory'].unique()))\n",
    "print()\n",
    "print('unique masterCategory in train set: ', len(train_df['masterCategory'].unique()))\n",
    "print('unique masterCategory in test set: ', len(test_df['masterCategory'].unique()))\n",
    "\n",
    "\n",
    "train_dataset = Dataset(train_df, transform=transform)\n",
    "test_dataset = Dataset(test_df, transform=transform)\n",
    "\n",
    "\n",
    "train_loader = DataLoader(train_dataset, batch_size=BATCH_SIZE, shuffle=True)\n",
    "test_loader = DataLoader(test_dataset, batch_size=BATCH_SIZE, shuffle=True)\n",
    "\n",
    "\n",
    "# Optionally, you can check the sizes of the datasets\n",
    "print(f\"Train dataset size: {len(train_dataset)}\")\n",
    "print(f\"Test dataset size: {len(test_dataset)}\")"
   ]
  },
  {
   "cell_type": "markdown",
   "metadata": {
    "id": "7BgMGR0TAwMA"
   },
   "source": [
    "#### Example of one batch"
   ]
  },
  {
   "cell_type": "code",
   "execution_count": 36,
   "metadata": {
    "colab": {
     "base_uri": "https://localhost:8080/"
    },
    "id": "_qi34-KY6FPd",
    "outputId": "3ea9e8ed-580a-4407-e073-3ac4ffb37e99"
   },
   "outputs": [
    {
     "name": "stderr",
     "output_type": "stream",
     "text": [
      "<ipython-input-31-1116991f2b18>:23: UserWarning: To copy construct from a tensor, it is recommended to use sourceTensor.clone().detach() or sourceTensor.clone().detach().requires_grad_(True), rather than torch.tensor(sourceTensor).\n",
      "  description = torch.tensor(row['Description_embedding'], dtype = torch.float)\n",
      "/usr/local/lib/python3.10/dist-packages/PIL/Image.py:1056: UserWarning: Palette images with Transparency expressed in bytes should be converted to RGBA images\n",
      "  warnings.warn(\n"
     ]
    },
    {
     "name": "stdout",
     "output_type": "stream",
     "text": [
      "success\n",
      "img.shape: torch.Size([64, 3, 224, 224])\n",
      "len(master_category): 64\n",
      "brand: tensor([251, 365,  83, 285,  83, 125,  60, 248, 361, 167, 285, 217,  18, 394,\n",
      "         97, 185, 330, 106, 106, 408, 112, 393, 285, 348, 369, 330,  94, 116,\n",
      "        186, 352, 217,  81, 190, 240, 115, 224, 252, 206, 275, 233, 154,  67,\n",
      "        248, 265, 160, 142,  83, 141, 116, 314, 280,  80,  83, 310,  77, 173,\n",
      "        257,  26, 224, 160, 324,  26, 271, 292])\n",
      "description_embedding: tensor([[-0.1929,  0.0341,  0.2844,  ..., -0.1556, -0.1674, -0.0151],\n",
      "        [-0.2647,  0.0425,  0.1987,  ..., -0.1201, -0.2254,  0.2766],\n",
      "        [ 0.0616, -0.0354,  0.4700,  ..., -0.1043,  0.0262, -0.0402],\n",
      "        ...,\n",
      "        [-0.1297, -0.2143,  0.4956,  ..., -0.2424, -0.1948, -0.0182],\n",
      "        [-0.2404,  0.1766,  0.3495,  ...,  0.0397, -0.1276,  0.0674],\n",
      "        [-0.1649,  0.0052,  0.1277,  ..., -0.0971, -0.2554,  0.0062]])\n",
      "description_embedding shape: torch.Size([64, 768])\n"
     ]
    }
   ],
   "source": [
    "for img, master_category, sub_category, brand, description_embedding in dataloader:\n",
    "  print(\"success\")\n",
    "  break\n",
    "\n",
    "print(\"img.shape:\", img.shape)\n",
    "print(\"len(master_category):\", len(master_category))\n",
    "print(\"brand:\", brand)\n",
    "\n",
    "print(\"description_embedding:\", description_embedding)\n",
    "print(\"description_embedding shape:\", description_embedding.shape)"
   ]
  },
  {
   "cell_type": "markdown",
   "metadata": {
    "id": "2v4yF-ECA0MQ"
   },
   "source": [
    "### Model Definition for Embedding Generation\n",
    "\n",
    "Next we define a model that will output embeddings.\n",
    "\n",
    "We will use a pretrained CNN like ResNet for image feature extraction and adjust the output layer to produce embeddings.\n",
    "\n",
    "+ `num_master`: The number of unique master categories in the dataset.\n",
    "+ `num_sub`: The number of unique subcategories in the dataset.\n",
    "+ `num_brand`: The number of unique brands in the dataset.\n",
    "+ `dim_embed_image`: Size of the image embedding (set to 1000 in the example).\n",
    "+ `dim_embed_description`: Size of the precomputed description embedding (e.g., from a BERT model).\n",
    "+ `required_dim_embed_description`: The size to which the description embeddings will be projected.\n",
    "+ `self.dim_embed`: The total combined size of the image and description embeddings, which is passed to the classification heads.\n",
    "\n",
    "\n",
    "### Embedding dim logic\n",
    "We have an argument: `dim_embed`. The logic:\n",
    "We have image embedding shape and description embedding shape.\n",
    "The `MultiTaskResNet` creates the embedding for a given image, but it can also gets as input embedding of the description of the product.\n",
    "\n",
    "If the class gets as input als othe embedding of the product then:\n",
    "The embedding of the image will be: dim_embed\n",
    "The final embedding of the product will be: dim_embed + the dim_embed_description\n",
    "\n"
   ]
  },
  {
   "cell_type": "code",
   "execution_count": 37,
   "metadata": {
    "id": "zeMgiSAINkzI"
   },
   "outputs": [],
   "source": [
    "### Moreb back-bone ResNet options:\n",
    "#self.backbone = models.resnet18(pretrained=True)\n",
    "#self.backbone = models.resnet34(pretrained=True)\n",
    "#self.image_embedding = nn.Linear(512, dim_embed_image)  # ResNet18 and ResNet34 outputs 512-dim features\n",
    "\n",
    "\n",
    "#self.backbone = models.resnet50(pretrained=True)\n",
    "#self.backbone = models.resnet101(pretrained=True)\n",
    "#self.backbone = models.resnet152(pretrained=True)\n",
    "#self.image_embedding = nn.Linear(2048, dim_embed_image) # ResNet50 and ResNet101 and ResNet152 outputs 2048-dim features"
   ]
  },
  {
   "cell_type": "code",
   "execution_count": 38,
   "metadata": {
    "colab": {
     "base_uri": "https://localhost:8080/"
    },
    "id": "hkzdy52NO8Y6",
    "outputId": "d1cce203-c07f-43d7-aa32-f52d52031b95"
   },
   "outputs": [
    {
     "name": "stderr",
     "output_type": "stream",
     "text": [
      "/usr/local/lib/python3.10/dist-packages/torchvision/models/_utils.py:208: UserWarning: The parameter 'pretrained' is deprecated since 0.13 and may be removed in the future, please use 'weights' instead.\n",
      "  warnings.warn(\n",
      "/usr/local/lib/python3.10/dist-packages/torchvision/models/_utils.py:223: UserWarning: Arguments other than a weight enum or `None` for 'weights' are deprecated since 0.13 and may be removed in the future. The current behavior is equivalent to passing `weights=ResNet18_Weights.IMAGENET1K_V1`. You can also use `weights=ResNet18_Weights.DEFAULT` to get the most up-to-date weights.\n",
      "  warnings.warn(msg)\n",
      "Downloading: \"https://download.pytorch.org/models/resnet18-f37072fd.pth\" to /root/.cache/torch/hub/checkpoints/resnet18-f37072fd.pth\n",
      "100%|██████████| 44.7M/44.7M [00:00<00:00, 142MB/s]\n"
     ]
    }
   ],
   "source": [
    "import torch\n",
    "import torch.nn as nn\n",
    "import torchvision.models as models\n",
    "\n",
    "class MultiTaskResNet2(nn.Module):\n",
    "    def __init__(self, num_master, num_sub, num_brand, dim_embed_image=1000, dim_embed_description=768, required_dim_embed_description = 768):\n",
    "        super(MultiTaskResNet2, self).__init__()\n",
    "\n",
    "        self.required_dim_embed_description = required_dim_embed_description\n",
    "        ### Define the embedding size\n",
    "        self.dim_embed_image = dim_embed_image  # The required embedding size for a given image\n",
    "        self.dim_embed_description = dim_embed_description  # The embedding size of the description (e.g., 768 for BERT/DistilBERT)\n",
    "        self.dim_embed = self.dim_embed_image + self.required_dim_embed_description  # The final embedding is the sum of image and description embeddings\n",
    "\n",
    "        # Load pre-trained ResNet18\n",
    "        self.backbone = models.resnet18(pretrained=True)\n",
    "        self.backbone.fc = nn.Identity()  # Remove the final fully connected layer\n",
    "\n",
    "        # Flattening layer\n",
    "        self.flatten = nn.Flatten()\n",
    "\n",
    "        # Image embedding layer\n",
    "        self.image_embedding = nn.Linear(512, dim_embed_image)  # ResNet18 outputs 512-dim features, map to the desired size\n",
    "\n",
    "        # Linear layer for description embedding (to learn which parts of the description are important)\n",
    "        self.description_embedding_layer = nn.Linear(dim_embed_description, required_dim_embed_description)  # take the dim of the input description embedding and send it to required_dim_embed_description\n",
    "        self.relu = nn.ReLU()\n",
    "\n",
    "        # Classification heads\n",
    "        self.master_head = nn.Linear(self.dim_embed, num_master)\n",
    "        self.sub_head = nn.Linear(self.dim_embed, num_sub)\n",
    "        self.brand_head = nn.Linear(self.dim_embed, num_brand)\n",
    "\n",
    "    def forward(self, x, embedding_desc=None):\n",
    "        \"\"\"\n",
    "        x: Image input (batch_size, 3, H, W)\n",
    "        embedding_desc: Precomputed description embeddings (batch_size, dim_embed_description)\n",
    "        \"\"\"\n",
    "\n",
    "        # Process image through ResNet\n",
    "        x = self.backbone(x)\n",
    "        x = self.flatten(x)  # Flatten the output to (batch_size, 512)\n",
    "\n",
    "        # Compute image embedding\n",
    "        x_embedding = self.image_embedding(x)  # (batch_size, dim_embed_image)\n",
    "\n",
    "        # Process description embedding\n",
    "        if embedding_desc is not None:\n",
    "            desc_embedding = self.description_embedding_layer(embedding_desc)  # (batch_size, required_dim_embed_description)\n",
    "            desc_embedding = self.relu(desc_embedding)  # Apply ReLU activation\n",
    "        else:\n",
    "            # If no description embedding is provided, use a zero tensor of the same shape\n",
    "            desc_embedding = torch.zeros((x.shape[0], self.required_dim_embed_description), device=x.device)\n",
    "\n",
    "        # Concatenate image and description embeddings\n",
    "        combined_embedding = torch.cat((x_embedding, desc_embedding), dim=1)  # (batch_size, dim_embed)\n",
    "\n",
    "        # Classification outputs\n",
    "        master_output = self.master_head(combined_embedding)\n",
    "        sub_output = self.sub_head(combined_embedding)\n",
    "        brand_output = self.brand_head(combined_embedding)\n",
    "\n",
    "        return combined_embedding, master_output, sub_output, brand_output\n",
    "\n",
    "\n",
    "# Example usage:\n",
    "num_master = len(df['masterCategory'].unique())\n",
    "num_sub = len(df['subCategory'].unique())\n",
    "num_brand = len(df['brand'].unique())\n",
    "dim_embed_description = df[\"Description_embedding\"][0].shape[0]\n",
    "required_dim_embed_description = 768\n",
    "dim_embed_image = 1000\n",
    "\n",
    "model = MultiTaskResNet2(num_master, num_sub, num_brand, dim_embed_image=dim_embed_image,\n",
    "                         dim_embed_description=dim_embed_description,\n",
    "                         required_dim_embed_description = required_dim_embed_description).to(DEVICE)\n"
   ]
  },
  {
   "cell_type": "code",
   "execution_count": 40,
   "metadata": {
    "colab": {
     "base_uri": "https://localhost:8080/"
    },
    "id": "zcUxh3DlO1VH",
    "outputId": "020878f4-74cd-41a6-e164-50b199f9e944"
   },
   "outputs": [
    {
     "name": "stdout",
     "output_type": "stream",
     "text": [
      "Number of params:13.025M\n"
     ]
    }
   ],
   "source": [
    "number_params = sum(p.numel() for p in model.parameters() if p.requires_grad)\n",
    "\n",
    "print(f\"Number of params:{round(number_params/1000000,3)}M\")\n"
   ]
  },
  {
   "cell_type": "code",
   "execution_count": 41,
   "metadata": {
    "colab": {
     "base_uri": "https://localhost:8080/"
    },
    "id": "ZBiCvAriebA4",
    "outputId": "57472182-c318-426b-c632-919f0aece825"
   },
   "outputs": [
    {
     "name": "stdout",
     "output_type": "stream",
     "text": [
      "Embeddings shape: torch.Size([64, 1768])\n",
      "Master Output shape: torch.Size([64, 1])\n",
      "Sub Output shape: torch.Size([64, 8])\n",
      "Brand Output shape: torch.Size([64, 412])\n"
     ]
    }
   ],
   "source": [
    "# Example input\n",
    "images = torch.randn(BATCH_SIZE, 3, 224, 224).to(DEVICE)  # Example batch of images\n",
    "descriptions_embed = torch.randn(BATCH_SIZE, dim_embed_description).to(DEVICE)\n",
    "\n",
    "# Forward pass\n",
    "embeddings, master_output, sub_output, brand_output = model(images, descriptions_embed)\n",
    "\n",
    "# Check shapes\n",
    "print(\"Embeddings shape:\", embeddings.shape)  # Should be (batch_size, 1000)\n",
    "print(\"Master Output shape:\", master_output.shape)  # Should be (batch_size, num_master)\n",
    "print(\"Sub Output shape:\", sub_output.shape)  # Should be (batch_size, num_sub)\n",
    "print(\"Brand Output shape:\", brand_output.shape)  # Should be (batch_size, num_brand)"
   ]
  },
  {
   "cell_type": "markdown",
   "metadata": {
    "id": "LUzrbMd1Lhun"
   },
   "source": [
    "### Step 4: Define Loss Function and Optimizer\n",
    "We’ll use CrossEntropyLoss for each task and Adam optimizer."
   ]
  },
  {
   "cell_type": "code",
   "execution_count": 42,
   "metadata": {
    "id": "YC_ma2FCAznX"
   },
   "outputs": [],
   "source": [
    "# Define loss functions and optimizer\n",
    "criterion = nn.CrossEntropyLoss()\n",
    "optimizer = optim.Adam(model.parameters(), lr=1e-4)\n"
   ]
  },
  {
   "cell_type": "code",
   "execution_count": 43,
   "metadata": {
    "colab": {
     "base_uri": "https://localhost:8080/"
    },
    "id": "9LR7zbIvL4lz",
    "outputId": "1d653f81-48d4-4138-af28-ea70fbb19bb7"
   },
   "outputs": [
    {
     "name": "stderr",
     "output_type": "stream",
     "text": [
      "\r  0%|          | 0/120 [00:00<?, ?it/s]<ipython-input-31-1116991f2b18>:23: UserWarning: To copy construct from a tensor, it is recommended to use sourceTensor.clone().detach() or sourceTensor.clone().detach().requires_grad_(True), rather than torch.tensor(sourceTensor).\n",
      "  description = torch.tensor(row['Description_embedding'], dtype = torch.float)\n",
      "  2%|▏         | 2/120 [01:22<1:21:24, 41.39s/it]\n"
     ]
    }
   ],
   "source": [
    "from tqdm import tqdm\n",
    "j = 0\n",
    "for images, master_labels, sub_labels, brand_labels, description_embedding in tqdm(dataloader):\n",
    "    images, master_labels = images.to(device), master_labels.to(device)\n",
    "    sub_labels, brand_labels = sub_labels.to(device), brand_labels.to(device)\n",
    "    description_embedding.to(device)\n",
    "    j +=1\n",
    "    if j ==3:\n",
    "        break"
   ]
  },
  {
   "cell_type": "code",
   "execution_count": null,
   "metadata": {
    "id": "LFGPid8uBAVq"
   },
   "outputs": [],
   "source": []
  },
  {
   "cell_type": "code",
   "execution_count": 44,
   "metadata": {
    "colab": {
     "base_uri": "https://localhost:8080/"
    },
    "id": "rV3dBDUqMbK9",
    "outputId": "d6ac66a3-2109-4a04-8deb-6ce194f80deb"
   },
   "outputs": [
    {
     "name": "stdout",
     "output_type": "stream",
     "text": [
      "Embeddings shape: torch.Size([64, 1768])\n",
      "Master Output shape: torch.Size([64, 1])\n",
      "Sub Output shape: torch.Size([64, 8])\n",
      "Brand Output shape: torch.Size([64, 412])\n"
     ]
    }
   ],
   "source": [
    "embedding, master_output, sub_output, brand_output = model(images)\n",
    "loss_master = criterion(master_output, master_labels)\n",
    "loss_sub = criterion(sub_output, sub_labels)\n",
    "loss_brand = criterion(brand_output, brand_labels)\n",
    "\n",
    "# Check shapes\n",
    "print(\"Embeddings shape:\", embeddings.shape)  # Should be (batch_size, 1000)\n",
    "print(\"Master Output shape:\", master_output.shape)  # Should be (batch_size, num_master)\n",
    "print(\"Sub Output shape:\", sub_output.shape)  # Should be (batch_size, num_sub)\n",
    "print(\"Brand Output shape:\", brand_output.shape)  # Should be (batch_size, num_brand)\n"
   ]
  },
  {
   "cell_type": "markdown",
   "metadata": {
    "id": "ZHZEI8bLLNJm"
   },
   "source": [
    "## Training loop for the embedding model"
   ]
  },
  {
   "cell_type": "code",
   "execution_count": 46,
   "metadata": {
    "id": "H75MUKIjYpqu"
   },
   "outputs": [],
   "source": [
    "import datetime\n",
    "\n",
    "def train(model, dataloader, criterion, optimizer, epochs=5, save_logs_after_k_batches = 100, log_file = None, dir_save_model = None):\n",
    "\n",
    "    model.train()\n",
    "\n",
    "    # list_avg_loss_all = []\n",
    "    # list_avg_loss_category = []\n",
    "    # list_avg_loss_sub_category = []\n",
    "    # list_avg_loss_brand = []\n",
    "\n",
    "    for epoch in range(epochs):\n",
    "        running_loss = 0.0\n",
    "        count = 0\n",
    "        running_loss_master = 0.0\n",
    "        running_loss_sub = 0.0\n",
    "        running_loss_brand = 0.0\n",
    "        list_avg_loss_all = []\n",
    "        list_avg_loss_category = []\n",
    "        list_avg_loss_sub_category = []\n",
    "        list_avg_loss_brand = []\n",
    "        progress_bar2 = tqdm(total=len(dataloader), desc=\"Training Iterations\", unit=\"iter\")\n",
    "\n",
    "        for images, master_labels, sub_labels, brand_labels, description_embedding in dataloader:\n",
    "            images, master_labels = images.to(device), master_labels.to(device)\n",
    "            sub_labels, brand_labels = sub_labels.to(device), brand_labels.to(device)\n",
    "            description_embedding = description_embedding.to(device)\n",
    "\n",
    "            # Zero the parameter gradients\n",
    "            optimizer.zero_grad()\n",
    "\n",
    "            # Forward pass\n",
    "            embedding, master_output, sub_output, brand_output = model(images, description_embedding)\n",
    "\n",
    "            # Calculate losses for each task\n",
    "            loss_master = criterion(master_output, master_labels)\n",
    "            loss_sub = criterion(sub_output, sub_labels)\n",
    "            loss_brand = criterion(brand_output, brand_labels)\n",
    "\n",
    "            # Total loss (can adjust weights if needed)\n",
    "            loss = loss_master + loss_sub + loss_brand\n",
    "\n",
    "            # Accumulate losses\n",
    "            running_loss += loss.item()\n",
    "            running_loss_master += loss_master.item()\n",
    "            running_loss_sub += loss_sub.item()\n",
    "            running_loss_brand += loss_brand.item()\n",
    "            count += 1\n",
    "\n",
    "            # Backward pass and optimize\n",
    "            loss.backward()\n",
    "            optimizer.step()\n",
    "\n",
    "            # Calculate average losses\n",
    "            avg_loss = running_loss / count\n",
    "            avg_loss_category = running_loss_master / count\n",
    "            avg_loss_sub_category = running_loss_sub / count\n",
    "            avg_loss_brand = running_loss_brand / count\n",
    "\n",
    "            # Update the iteration progress bar\n",
    "            progress_bar2.set_postfix({\n",
    "                \"Avg loss\": f\"{avg_loss:.4f}\",\n",
    "                \"Avg category loss\": f\"{avg_loss_category:.4f}\",\n",
    "                \"Avg sub category loss\": f\"{avg_loss_sub_category:.4f}\",\n",
    "                \"Avg brand loss\": f\"{avg_loss_brand:.4f}\"\n",
    "            })\n",
    "            progress_bar2.update(1)\n",
    "\n",
    "            list_avg_loss_all.append(running_loss / count)\n",
    "            list_avg_loss_category.append(running_loss_master / count)\n",
    "            list_avg_loss_sub_category.append(running_loss_sub / count)\n",
    "            list_avg_loss_brand.append(running_loss_brand / count)\n",
    "\n",
    "            log_message = (\n",
    "              f\"Avg loss: {avg_loss:.4f}, \"\n",
    "              f\"Avg category loss: {avg_loss_category:.4f}, \"\n",
    "              f\"Avg sub category loss: {avg_loss_sub_category:.4f}, \"\n",
    "              f\"Avg brand loss: {avg_loss_brand:.4f}\")\n",
    "\n",
    "            if (count % save_logs_after_k_batches == 0) | (count == 1) or (count == len(train_loader)):  # Write logs every k batches\n",
    "                if log_file:\n",
    "                    if log_file.endswith(\".txt\"):  # Ensure it's a text file\n",
    "                        with open(log_file, \"a\") as f:  # Open in append mode\n",
    "                            if count == 1:\n",
    "                              current_time = datetime.datetime.now().strftime(\"%Y-%m-%d %H:%M:%S\")\n",
    "                              f.write(\"--------------------------------------------------------------------------------------------------------------------------------------------------------\")\n",
    "                              f.write(f\"Logging started at: {current_time}\\n\") ##### write the time and date of now\n",
    "\n",
    "                            f.write(log_message + \"\\n\")\n",
    "                    else:\n",
    "                        print(\"Warning: Provided file is not a .txt file, skipping logging.\")\n",
    "\n",
    "                # Save the model periodically\n",
    "                if dir_save_model:\n",
    "                    # Ensure the directory exists\n",
    "                    if not os.path.exists(dir_save_model):\n",
    "                        os.makedirs(dir_save_model)\n",
    "\n",
    "                    model_save_path = f\"{dir_save_model}/model_epoch_{epoch + 1}_batch_{count}.pth\"\n",
    "                    torch.save(model.state_dict(), model_save_path)\n",
    "                    #print(f\"Model saved to {model_save_path}\")\n",
    "\n",
    "\n",
    "        # list_avg_loss_all.append(running_loss / count)\n",
    "        # list_avg_loss_category.append(running_loss_master / count)\n",
    "        # list_avg_loss_sub_category.append(running_loss_sub / count)\n",
    "        # list_avg_loss_brand.append(running_loss_brand / count)\n",
    "\n",
    "    return list_avg_loss_all, list_avg_loss_category, list_avg_loss_sub_category, list_avg_loss_brand\n",
    "\n"
   ]
  },
  {
   "cell_type": "code",
   "execution_count": null,
   "metadata": {
    "colab": {
     "base_uri": "https://localhost:8080/"
    },
    "id": "TxmNzcFfahfq",
    "outputId": "b679b329-f1b5-411d-f53b-40b217dd86bb"
   },
   "outputs": [
    {
     "name": "stderr",
     "output_type": "stream",
     "text": [
      "\rTraining Iterations:   0%|          | 0/96 [00:00<?, ?iter/s]<ipython-input-31-1116991f2b18>:23: UserWarning: To copy construct from a tensor, it is recommended to use sourceTensor.clone().detach() or sourceTensor.clone().detach().requires_grad_(True), rather than torch.tensor(sourceTensor).\n",
      "  description = torch.tensor(row['Description_embedding'], dtype = torch.float)\n"
     ]
    }
   ],
   "source": [
    "# Train the model\n",
    "from tqdm import tqdm\n",
    "epochs = 1\n",
    "list_avg_loss_all, list_avg_loss_category, list_avg_loss_sub_category, list_avg_loss_brand = train(model, train_loader, criterion, optimizer, epochs=epochs,\n",
    "                                                                                                   save_logs_after_k_batches = 200,\n",
    "                                                                                                   log_file = log_file, #\"log_file.txt\",\n",
    "                                                                                                   dir_save_model = folder_to_save_embed_model)\n"
   ]
  },
  {
   "cell_type": "markdown",
   "metadata": {
    "id": "9vI31JWukD4U"
   },
   "source": [
    "## Save model metrics/embeddings"
   ]
  },
  {
   "cell_type": "code",
   "execution_count": null,
   "metadata": {
    "id": "1BRYcMLmbQaf"
   },
   "outputs": [],
   "source": [
    "from sklearn.metrics import classification_report, confusion_matrix\n",
    "\n",
    "\n",
    "def save_model_metrics(model, dataloader, device, list_avg_loss_all, list_avg_loss_category, list_avg_loss_sub_category, list_avg_loss_brand, title=None):\n",
    "\n",
    "    current_time = datetime.datetime.now().strftime(\"%Y-%m-%d_%I-%M_%p\")\n",
    "    save_path = f\"{title}_metrics_{current_time}\"\n",
    "    os.makedirs(save_path, exist_ok=True)\n",
    "    file_name = os.path.join(save_path, f\"{title}_model_{current_time}.pth\")\n",
    "\n",
    "    torch.save(model, file_name)\n",
    "\n",
    "    def plot_confusion_matrix(y_true, y_pred, title, save_path):\n",
    "        cm = confusion_matrix(y_true, y_pred)\n",
    "        plt.figure(figsize=(10, 7))\n",
    "        sns.heatmap(cm, annot=True, fmt='d', cmap='Blues', xticklabels=np.unique(y_true), yticklabels=np.unique(y_true))\n",
    "        plt.title(f'Confusion Matrix - {title}')\n",
    "        plt.xlabel('Predicted')\n",
    "        plt.ylabel('True')\n",
    "        plt.savefig(os.path.join(save_path, f'{title}_confusion_matrix.png'))\n",
    "        plt.close()\n",
    "\n",
    "    print('generating loss plot')\n",
    "    plt.figure(figsize=(12, 6))\n",
    "    plt.plot(list_avg_loss_all, label='Average Loss', marker='o')\n",
    "    plt.plot(list_avg_loss_category, label='Average Category Loss', marker='o')\n",
    "    plt.plot(list_avg_loss_sub_category, label='Average Sub Category Loss', marker='o')\n",
    "    plt.plot(list_avg_loss_brand, label='Average Brand Loss', marker='o')\n",
    "    plt.title('Training Losses over Epochs')\n",
    "    plt.xlabel('Training iteration')\n",
    "    plt.ylabel('Loss')\n",
    "    plt.legend()\n",
    "    plt.grid()\n",
    "    plt.savefig(os.path.join(save_path, 'training_losses.png'))\n",
    "    plt.close()\n",
    "\n",
    "\n",
    "    model.eval()  # Set the model to evaluation mode\n",
    "    all_master_preds, all_sub_preds, all_brand_preds = [], [], []\n",
    "    all_master_labels, all_sub_labels, all_brand_labels = [], [], []\n",
    "    all_embeddings = []\n",
    "\n",
    "    print('getting predictions from model...')\n",
    "    with torch.no_grad():  # No need to calculate gradients\n",
    "        for images, master_labels, sub_labels, brand_labels, description_embedding in dataloader:\n",
    "            images = images.to(device)\n",
    "            master_labels = master_labels.to(device)\n",
    "            sub_labels = sub_labels.to(device)\n",
    "            brand_labels = brand_labels.to(device)\n",
    "            description_embedding = description_embedding.to(device)\n",
    "\n",
    "            # Get the model's predictions and embeddings\n",
    "            embeddings, master_outputs, sub_outputs, brand_outputs = model(images, description_embedding)\n",
    "\n",
    "            # Store embeddings\n",
    "            all_embeddings.extend(embeddings.cpu().numpy())  # Convert to numpy and extend the list\n",
    "\n",
    "            # Get the predicted class indices\n",
    "            master_preds = torch.argmax(master_outputs, dim=1).cpu().numpy()\n",
    "            sub_preds = torch.argmax(sub_outputs, dim=1).cpu().numpy()\n",
    "            brand_preds = torch.argmax(brand_outputs, dim=1).cpu().numpy()\n",
    "\n",
    "            # Store predictions and labels\n",
    "            all_master_preds.extend(master_preds)\n",
    "            all_sub_preds.extend(sub_preds)\n",
    "            all_brand_preds.extend(brand_preds)\n",
    "            all_master_labels.extend(master_labels.cpu().numpy())\n",
    "            all_sub_labels.extend(sub_labels.cpu().numpy())\n",
    "            all_brand_labels.extend(brand_labels.cpu().numpy())\n",
    "\n",
    "    # Convert lists to numpy arrays for metric calculations\n",
    "    all_master_preds = np.array(all_master_preds)\n",
    "    all_sub_preds = np.array(all_sub_preds)\n",
    "    all_brand_preds = np.array(all_brand_preds)\n",
    "    all_master_labels = np.array(all_master_labels)\n",
    "    all_sub_labels = np.array(all_sub_labels)\n",
    "    all_brand_labels = np.array(all_brand_labels)\n",
    "    all_embeddings = np.array(all_embeddings)  # Convert embeddings to numpy array\n",
    "\n",
    "    # Save the embeddings to a pickle file\n",
    "    with open(os.path.join(save_path, 'embeddings.pkl'), 'wb') as f:\n",
    "        pickle.dump(all_embeddings, f)\n",
    "\n",
    "    print('Embeddings saved to embeddings.pkl')\n",
    "\n",
    "    print('generating master category report')\n",
    "    master_report = classification_report(all_master_labels, all_master_preds)\n",
    "    print('generating sub category report')\n",
    "    sub_report = classification_report(all_sub_labels, all_sub_preds)\n",
    "    print('generating brand report')\n",
    "    brand_report = classification_report(all_brand_labels, all_brand_preds)\n",
    "\n",
    "    with open(os.path.join(save_path, 'classification_reports.txt'), 'w') as f:\n",
    "        f.write(\"Master Category Evaluation:\\n\")\n",
    "        f.write(master_report)\n",
    "        f.write(\"\\nSub Category Evaluation:\\n\")\n",
    "        f.write(sub_report)\n",
    "        f.write(\"\\nBrand Evaluation:\\n\")\n",
    "        f.write(brand_report)\n",
    "\n",
    "    # Confusion Matrices\n",
    "    print('generating master category confusion matrix')\n",
    "    plot_confusion_matrix(all_master_labels, all_master_preds, \"Master Category\", save_path)\n",
    "    print('generating sub category confusion matrix')\n",
    "    plot_confusion_matrix(all_sub_labels, all_sub_preds, \"Sub Category\", save_path)\n",
    "    # print('generating brand confusion matrix')\n",
    "    # plot_confusion_matrix(all_brand_labels, all_brand_preds, \"Brand\", save_path)\n",
    "\n",
    "\n"
   ]
  },
  {
   "cell_type": "code",
   "execution_count": null,
   "metadata": {
    "id": "7uVbLfR2bQaf",
    "outputId": "bb7fa645-b93b-48a3-e1b2-8c5e6019d861"
   },
   "outputs": [
    {
     "name": "stdout",
     "output_type": "stream",
     "text": [
      "generating loss plot\n",
      "getting predictions from model...\n",
      "Embeddings saved to embeddings.pkl\n",
      "generating master category report\n",
      "generating sub category report\n",
      "generating brand report\n"
     ]
    },
    {
     "name": "stderr",
     "output_type": "stream",
     "text": [
      "c:\\Users\\Austin\\anaconda3\\envs\\condaenv\\Lib\\site-packages\\sklearn\\metrics\\_classification.py:1531: UndefinedMetricWarning: Precision is ill-defined and being set to 0.0 in labels with no predicted samples. Use `zero_division` parameter to control this behavior.\n",
      "  _warn_prf(average, modifier, f\"{metric.capitalize()} is\", len(result))\n",
      "c:\\Users\\Austin\\anaconda3\\envs\\condaenv\\Lib\\site-packages\\sklearn\\metrics\\_classification.py:1531: UndefinedMetricWarning: Precision is ill-defined and being set to 0.0 in labels with no predicted samples. Use `zero_division` parameter to control this behavior.\n",
      "  _warn_prf(average, modifier, f\"{metric.capitalize()} is\", len(result))\n",
      "c:\\Users\\Austin\\anaconda3\\envs\\condaenv\\Lib\\site-packages\\sklearn\\metrics\\_classification.py:1531: UndefinedMetricWarning: Precision is ill-defined and being set to 0.0 in labels with no predicted samples. Use `zero_division` parameter to control this behavior.\n",
      "  _warn_prf(average, modifier, f\"{metric.capitalize()} is\", len(result))\n",
      "c:\\Users\\Austin\\anaconda3\\envs\\condaenv\\Lib\\site-packages\\sklearn\\metrics\\_classification.py:1531: UndefinedMetricWarning: Precision is ill-defined and being set to 0.0 in labels with no predicted samples. Use `zero_division` parameter to control this behavior.\n",
      "  _warn_prf(average, modifier, f\"{metric.capitalize()} is\", len(result))\n",
      "c:\\Users\\Austin\\anaconda3\\envs\\condaenv\\Lib\\site-packages\\sklearn\\metrics\\_classification.py:1531: UndefinedMetricWarning: Precision is ill-defined and being set to 0.0 in labels with no predicted samples. Use `zero_division` parameter to control this behavior.\n",
      "  _warn_prf(average, modifier, f\"{metric.capitalize()} is\", len(result))\n",
      "c:\\Users\\Austin\\anaconda3\\envs\\condaenv\\Lib\\site-packages\\sklearn\\metrics\\_classification.py:1531: UndefinedMetricWarning: Precision is ill-defined and being set to 0.0 in labels with no predicted samples. Use `zero_division` parameter to control this behavior.\n",
      "  _warn_prf(average, modifier, f\"{metric.capitalize()} is\", len(result))\n"
     ]
    },
    {
     "name": "stdout",
     "output_type": "stream",
     "text": [
      "generating master category confusion matrix\n",
      "generating sub category confusion matrix\n"
     ]
    }
   ],
   "source": [
    "save_model_metrics(model, test_loader, DEVICE, list_avg_loss_all, list_avg_loss_category, list_avg_loss_sub_category, list_avg_loss_brand, 'catalog_data')"
   ]
  },
  {
   "cell_type": "code",
   "execution_count": null,
   "metadata": {
    "id": "zuTk_fQWBAVr",
    "outputId": "129cb05d-dfa2-46a8-cc24-fef98b96135c"
   },
   "outputs": [
    {
     "name": "stdout",
     "output_type": "stream",
     "text": [
      "generating embeddings from provided dataloader\n"
     ]
    },
    {
     "name": "stderr",
     "output_type": "stream",
     "text": [
      "  0%|          | 0/343 [00:00<?, ?it/s]c:\\Users\\Austin\\anaconda3\\envs\\condaenv\\Lib\\site-packages\\PIL\\Image.py:1056: UserWarning: Palette images with Transparency expressed in bytes should be converted to RGBA images\n",
      "  warnings.warn(\n",
      "100%|██████████| 343/343 [12:49<00:00,  2.24s/it]\n"
     ]
    },
    {
     "name": "stdout",
     "output_type": "stream",
     "text": [
      "embeddings shape:  torch.Size([21919, 1768])\n",
      "Embeddings saved to big_basket_test_embeddings.pkl\n"
     ]
    }
   ],
   "source": [
    "def save_embeddings(model, dataloader, filename = None):\n",
    "    # Initialize lists to store embeddings and labels\n",
    "    all_embeddings = []\n",
    "    all_master_labels = []\n",
    "    all_sub_labels = []\n",
    "    all_brand_labels = []\n",
    "    filename = filename + '_' if filename else ''\n",
    "\n",
    "    model.eval()\n",
    "    print('generating embeddings from provided dataloader')\n",
    "    # Loop through all batches in the test_loader\n",
    "    with torch.no_grad():  # Disable gradient calculation\n",
    "        for images, master_labels, sub_labels, brand_labels, description_embed in tqdm(dataloader):\n",
    "            images, master_labels = images.to(device), master_labels.to(device)\n",
    "            sub_labels, brand_labels = sub_labels.to(device), brand_labels.to(device)\n",
    "            description_embed = description_embed.to(device)\n",
    "\n",
    "            embeddings, master_outputs, sub_outputs, brand_outputs  = model(images, description_embed)\n",
    "\n",
    "            # Append the embeddings and labels to the lists\n",
    "            all_embeddings.append(embeddings.cpu())  # Move to CPU for easier handling\n",
    "            all_master_labels.append(master_labels.cpu())\n",
    "            all_sub_labels.append(sub_labels.cpu())\n",
    "            all_brand_labels.append(brand_labels.cpu())\n",
    "\n",
    "    # Concatenate all the embeddings and labels into single tensors\n",
    "    all_embeddings = torch.cat(all_embeddings, dim=0)\n",
    "    all_master_labels = torch.cat(all_master_labels, dim=0)\n",
    "    all_sub_labels = torch.cat(all_sub_labels, dim=0)\n",
    "    all_brand_labels = torch.cat(all_brand_labels, dim=0)\n",
    "\n",
    "    print('embeddings shape: ', all_embeddings.shape)\n",
    "\n",
    "    # Save embeddings and labels to a file\n",
    "    file_name = f'{filename}embeddings.pkl'\n",
    "    with open(file_name, 'wb') as f:\n",
    "        pickle.dump({\n",
    "            'embeddings': all_embeddings,\n",
    "            'master_labels': all_master_labels,\n",
    "            'sub_labels': all_sub_labels,\n",
    "            'brand_labels': all_brand_labels\n",
    "        }, f)\n",
    "\n",
    "    print(f\"Embeddings saved to {file_name}\")\n",
    "\n"
   ]
  },
  {
   "cell_type": "code",
   "execution_count": null,
   "metadata": {},
   "outputs": [],
   "source": [
    "print(\"saving the train set embeddings\")\n",
    "save_embeddings(model, train_loader, filename = os.path.join(folder_to_save_products_embeddings, 'train_set_'))\n"
   ]
  },
  {
   "cell_type": "code",
   "execution_count": null,
   "metadata": {},
   "outputs": [
    {
     "data": {
      "text/plain": [
       "'dad/embedding_train_set'"
      ]
     },
     "execution_count": 4,
     "metadata": {},
     "output_type": "execute_result"
    }
   ],
   "source": [
    "\n",
    "print(\"saving the test set embeddings\")\n",
    "save_embeddings(model, test_loader, filename = os.path.join(folder_to_save_products_embeddings, 'test_set_'))\n"
   ]
  },
  {
   "cell_type": "code",
   "execution_count": null,
   "metadata": {},
   "outputs": [],
   "source": []
  },
  {
   "cell_type": "code",
   "execution_count": null,
   "metadata": {
    "colab": {
     "base_uri": "https://localhost:8080/",
     "height": 564
    },
    "id": "-cNedEbe8z0o",
    "outputId": "98f8cf56-8776-4b2b-f8dc-14df3d61f77a"
   },
   "outputs": [
    {
     "data": {
      "image/png": "[encoded data removed]",
      "text/plain": [
       "<Figure size 1200x600 with 1 Axes>"
      ]
     },
     "metadata": {},
     "output_type": "display_data"
    }
   ],
   "source": [
    "# Plotting the losses\n",
    "plt.figure(figsize=(12, 6))\n",
    "plt.plot(list_avg_loss_all, label='Average Loss', marker='o')\n",
    "plt.plot(list_avg_loss_category, label='Average Category Loss', marker='o')\n",
    "plt.plot(list_avg_loss_sub_category, label='Average Sub Category Loss', marker='o')\n",
    "plt.plot(list_avg_loss_brand, label='Average Brand Loss', marker='o')\n",
    "plt.title('Training Losses over Epochs')\n",
    "plt.xlabel('Training iteration')\n",
    "plt.ylabel('Loss')\n",
    "plt.legend()\n",
    "plt.grid()\n",
    "plt.show()"
   ]
  },
  {
   "cell_type": "markdown",
   "metadata": {
    "id": "xFz06Ec6WxzG"
   },
   "source": [
    "## Performance"
   ]
  },
  {
   "cell_type": "code",
   "execution_count": null,
   "metadata": {
    "id": "XwWIfjhOWvJD"
   },
   "outputs": [],
   "source": [
    "import torch\n",
    "import numpy as np\n",
    "from sklearn.metrics import classification_report, confusion_matrix\n",
    "import matplotlib.pyplot as plt\n",
    "import seaborn as sns\n",
    "\n",
    "def evaluate_model(model, dataloader, device):\n",
    "    model.eval()  # Set the model to evaluation mode\n",
    "    all_master_preds, all_sub_preds, all_brand_preds = [], [], []\n",
    "    all_master_labels, all_sub_labels, all_brand_labels = [], [], []\n",
    "\n",
    "    with torch.no_grad():  # No need to calculate gradients\n",
    "        for images, master_labels, sub_labels, brand_labels in dataloader:\n",
    "            images = images.to(device)\n",
    "            master_labels = master_labels.to(device)\n",
    "            sub_labels = sub_labels.to(device)\n",
    "            brand_labels = brand_labels.to(device)\n",
    "\n",
    "            # Get the model's predictions\n",
    "            embeddings, master_outputs, sub_outputs, brand_outputs = model(images)\n",
    "\n",
    "            # Get the predicted class indices\n",
    "            master_preds = torch.argmax(master_outputs, dim=1).cpu().numpy()\n",
    "            sub_preds = torch.argmax(sub_outputs, dim=1).cpu().numpy()\n",
    "            brand_preds = torch.argmax(brand_outputs, dim=1).cpu().numpy()\n",
    "\n",
    "            # Store predictions and labels\n",
    "            all_master_preds.extend(master_preds)\n",
    "            all_sub_preds.extend(sub_preds)\n",
    "            all_brand_preds.extend(brand_preds)\n",
    "            all_master_labels.extend(master_labels.cpu().numpy())\n",
    "            all_sub_labels.extend(sub_labels.cpu().numpy())\n",
    "            all_brand_labels.extend(brand_labels.cpu().numpy())\n",
    "\n",
    "    # Convert lists to numpy arrays for metric calculations\n",
    "    all_master_preds = np.array(all_master_preds)\n",
    "    all_sub_preds = np.array(all_sub_preds)\n",
    "    all_brand_preds = np.array(all_brand_preds)\n",
    "    all_master_labels = np.array(all_master_labels)\n",
    "    all_sub_labels = np.array(all_sub_labels)\n",
    "    all_brand_labels = np.array(all_brand_labels)\n",
    "\n",
    "    # Calculate metrics\n",
    "    print(\"Master Category Evaluation:\")\n",
    "    print(classification_report(all_master_labels, all_master_preds))\n",
    "\n",
    "    print(\"Sub Category Evaluation:\")\n",
    "    print(classification_report(all_sub_labels, all_sub_preds))\n",
    "\n",
    "    print(\"Brand Evaluation:\")\n",
    "    print(classification_report(all_brand_labels, all_brand_preds))\n",
    "\n",
    "    # Confusion Matrices\n",
    "    plot_confusion_matrix(all_master_labels, all_master_preds, \"Master Category\")\n",
    "    plot_confusion_matrix(all_sub_labels, all_sub_preds, \"Sub Category\")\n",
    "  #   plot_confusion_matrix(all_brand_labels, all_brand_preds, \"Brand\")\n",
    "\n",
    "def plot_confusion_matrix(y_true, y_pred, title):\n",
    "    cm = confusion_matrix(y_true, y_pred)\n",
    "    plt.figure(figsize=(10, 7))\n",
    "    sns.heatmap(cm, annot=True, fmt='d', cmap='Blues', xticklabels=np.unique(y_true), yticklabels=np.unique(y_true))\n",
    "    plt.title(f'Confusion Matrix - {title}')\n",
    "    plt.xlabel('Predicted')\n",
    "    plt.ylabel('True')\n",
    "    plt.show()\n"
   ]
  },
  {
   "cell_type": "markdown",
   "metadata": {
    "id": "aMcm5O5RZD3q"
   },
   "source": [
    "## Evaluate test"
   ]
  },
  {
   "cell_type": "markdown",
   "metadata": {
    "id": "S5XSk54jiaJG"
   },
   "source": [
    "### Evaluate specific image results"
   ]
  },
  {
   "cell_type": "code",
   "execution_count": null,
   "metadata": {
    "colab": {
     "base_uri": "https://localhost:8080/",
     "height": 665,
     "referenced_widgets": [
      "48cf8b9c434f4b3ea062acf343a29497",
      "05b7aa8f42c240d2b499db4f4dec0de3",
      "3cc5b357c2404692b1f0c36909a485d7",
      "1a3decad0a704db191bf9a55d193b9c2"
     ]
    },
    "id": "l-Jf5J-QiZLk",
    "outputId": "a094ffa1-12da-42ac-9ff2-e239f6911847"
   },
   "outputs": [
    {
     "data": {
      "application/vnd.jupyter.widget-view+json": {
       "model_id": "1a3decad0a704db191bf9a55d193b9c2",
       "version_major": 2,
       "version_minor": 0
      },
      "text/plain": [
       "Button(description='Shuffle Image', style=ButtonStyle())"
      ]
     },
     "metadata": {},
     "output_type": "display_data"
    },
    {
     "name": "stdout",
     "output_type": "stream",
     "text": [
      "index image in df:12642\n"
     ]
    },
    {
     "name": "stderr",
     "output_type": "stream",
     "text": [
      "c:\\Users\\Austin\\anaconda3\\envs\\condaenv\\Lib\\site-packages\\PIL\\Image.py:1056: UserWarning: Palette images with Transparency expressed in bytes should be converted to RGBA images\n",
      "  warnings.warn(\n"
     ]
    },
    {
     "data": {
      "image/png": "[encoded data removed]",
      "text/plain": [
       "<Figure size 600x600 with 1 Axes>"
      ]
     },
     "metadata": {},
     "output_type": "display_data"
    },
    {
     "data": {
      "text/html": [
       "<div>\n",
       "<style scoped>\n",
       "    .dataframe tbody tr th:only-of-type {\n",
       "        vertical-align: middle;\n",
       "    }\n",
       "\n",
       "    .dataframe tbody tr th {\n",
       "        vertical-align: top;\n",
       "    }\n",
       "\n",
       "    .dataframe thead th {\n",
       "        text-align: right;\n",
       "    }\n",
       "</style>\n",
       "<table border=\"1\" class=\"dataframe\">\n",
       "  <thead>\n",
       "    <tr style=\"text-align: right;\">\n",
       "      <th></th>\n",
       "      <th>Category</th>\n",
       "      <th>Sub Category</th>\n",
       "      <th>Brand</th>\n",
       "    </tr>\n",
       "  </thead>\n",
       "  <tbody>\n",
       "    <tr>\n",
       "      <th>Prediction</th>\n",
       "      <td>beauty &amp; hygiene</td>\n",
       "      <td>health &amp; medicine</td>\n",
       "      <td>Nature Life Nutrition</td>\n",
       "    </tr>\n",
       "    <tr>\n",
       "      <th>True</th>\n",
       "      <td>beauty &amp; hygiene</td>\n",
       "      <td>health &amp; medicine</td>\n",
       "      <td>Nature Life Nutrition</td>\n",
       "    </tr>\n",
       "  </tbody>\n",
       "</table>\n",
       "</div>"
      ],
      "text/plain": [
       "                    Category       Sub Category                  Brand\n",
       "Prediction  beauty & hygiene  health & medicine  Nature Life Nutrition\n",
       "True        beauty & hygiene  health & medicine  Nature Life Nutrition"
      ]
     },
     "metadata": {},
     "output_type": "display_data"
    }
   ],
   "source": [
    "import torch\n",
    "import pandas as pd\n",
    "from torchvision import transforms\n",
    "from PIL import Image\n",
    "import matplotlib.pyplot as plt\n",
    "import ipywidgets as widgets\n",
    "from IPython.display import display, clear_output\n",
    "\n",
    "# Function to predict and compare\n",
    "def predict_and_compare(model, df, index, device, label_encoders):\n",
    "    print(f\"index image in df:{index}\")\n",
    "    # Ensure the index is valid\n",
    "    if index < 0 or index >= len(df):\n",
    "        raise IndexError(\"Index is out of bounds for the DataFrame.\")\n",
    "\n",
    "    # Retrieve the relevant data from the DataFrame\n",
    "    image_path = df.iloc[index]['image_path']\n",
    "    original_master = df.iloc[index]['masterCategory']\n",
    "    original_sub = df.iloc[index]['subCategory']\n",
    "    original_brand = df.iloc[index]['brand']\n",
    "\n",
    "    # Define the transformations (adjust according to your training transformations)\n",
    "    transform = transforms.Compose([\n",
    "        transforms.Resize((224, 224)),  # Resize to match the model input size\n",
    "        transforms.ToTensor(),           # Convert the image to a tensor\n",
    "        transforms.Normalize(mean=[0.485, 0.456, 0.406], std=[0.229, 0.224, 0.225])  # Normalize with ImageNet stats\n",
    "    ])\n",
    "\n",
    "    # Load and preprocess the image\n",
    "    image = Image.open(image_path).convert('RGB')  # Ensure image is RGB\n",
    "    image_tensor = transform(image).unsqueeze(0).to(device)  # Add batch dimension and move to device\n",
    "\n",
    "    # Set the model to evaluation mode and make predictions\n",
    "    model.eval()\n",
    "    with torch.no_grad():\n",
    "        embeddings, master_output, sub_output, brand_output = model(image_tensor)\n",
    "\n",
    "        # Get the predicted classes\n",
    "        master_pred = torch.argmax(master_output, dim=1).item()\n",
    "        sub_pred = torch.argmax(sub_output, dim=1).item()\n",
    "        brand_pred = torch.argmax(brand_output, dim=1).item()\n",
    "\n",
    "    # Inverse transform using the label encoders\n",
    "    original_master = label_encoders['masterCategory'].inverse_transform([original_master])[0]\n",
    "    master_pred = label_encoders['masterCategory'].inverse_transform([master_pred])[0]\n",
    "\n",
    "    original_sub = label_encoders['subCategory'].inverse_transform([original_sub])[0]\n",
    "    sub_pred = label_encoders['subCategory'].inverse_transform([sub_pred])[0]\n",
    "\n",
    "    original_brand = label_encoders['brand'].inverse_transform([original_brand])[0]\n",
    "    brand_pred = label_encoders['brand'].inverse_transform([brand_pred])[0]\n",
    "\n",
    "    # Prepare a comparison table\n",
    "    comparison = {\n",
    "        'Category': [master_pred, original_master],\n",
    "        'Sub Category': [sub_pred, original_sub],\n",
    "        'Brand': [brand_pred, original_brand]\n",
    "    }\n",
    "\n",
    "    # Convert to DataFrame for better visualization\n",
    "    comparison_df = pd.DataFrame(comparison, index=['Prediction', 'True'])\n",
    "\n",
    "    # Plot the image\n",
    "    plt.figure(figsize=(6, 6))\n",
    "    plt.imshow(image)\n",
    "    plt.axis('off')  # Hide axis\n",
    "    plt.title(\"Input Image\")\n",
    "    plt.show()\n",
    "\n",
    "    return comparison_df\n",
    "\n",
    "# Shuffle function\n",
    "def shuffle_and_display(model, df, device, label_encoders):\n",
    "    index = torch.randint(0, len(df), (1,)).item()  # Random index\n",
    "\n",
    "    # Clear previous output\n",
    "    clear_output(wait=True)\n",
    "\n",
    "    # Display the button again\n",
    "    display(shuffle_button)\n",
    "\n",
    "    # Make prediction and display results\n",
    "    comparison_df = predict_and_compare(model, df, index, device, label_encoders)\n",
    "    display(comparison_df)\n",
    "\n",
    "# Create the shuffle button\n",
    "shuffle_button = widgets.Button(description=\"Shuffle Image\")\n",
    "shuffle_button.on_click(lambda b: shuffle_and_display(model, df, DEVICE, label_encoders))  # Trigger shuffle_and_display on click\n",
    "\n",
    "# Display the button and initial output\n",
    "display(shuffle_button)\n",
    "shuffle_and_display(model, df, DEVICE, label_encoders)\n"
   ]
  }
 ],
 "metadata": {
  "colab": {
   "provenance": []
  },
  "kernelspec": {
   "display_name": "Python 3",
   "name": "python3"
  },
  "language_info": {
   "codemirror_mode": {
    "name": "ipython",
    "version": 3
   },
   "file_extension": ".py",
   "mimetype": "text/x-python",
   "name": "python",
   "nbconvert_exporter": "python",
   "pygments_lexer": "ipython3",
   "version": "3.12.6"
  },
  "widgets": {
   "application/vnd.jupyter.widget-state+json": {
    "05b7aa8f42c240d2b499db4f4dec0de3": {
     "model_module": "@jupyter-widgets/base",
     "model_module_version": "1.2.0",
     "model_name": "LayoutModel",
     "state": {
      "_model_module": "@jupyter-widgets/base",
      "_model_module_version": "1.2.0",
      "_model_name": "LayoutModel",
      "_view_count": null,
      "_view_module": "@jupyter-widgets/base",
      "_view_module_version": "1.2.0",
      "_view_name": "LayoutView",
      "align_content": null,
      "align_items": null,
      "align_self": null,
      "border": null,
      "bottom": null,
      "display": null,
      "flex": null,
      "flex_flow": null,
      "grid_area": null,
      "grid_auto_columns": null,
      "grid_auto_flow": null,
      "grid_auto_rows": null,
      "grid_column": null,
      "grid_gap": null,
      "grid_row": null,
      "grid_template_areas": null,
      "grid_template_columns": null,
      "grid_template_rows": null,
      "height": null,
      "justify_content": null,
      "justify_items": null,
      "left": null,
      "margin": null,
      "max_height": null,
      "max_width": null,
      "min_height": null,
      "min_width": null,
      "object_fit": null,
      "object_position": null,
      "order": null,
      "overflow": null,
      "overflow_x": null,
      "overflow_y": null,
      "padding": null,
      "right": null,
      "top": null,
      "visibility": null,
      "width": null
     }
    },
    "3cc5b357c2404692b1f0c36909a485d7": {
     "model_module": "@jupyter-widgets/controls",
     "model_module_version": "1.5.0",
     "model_name": "ButtonStyleModel",
     "state": {
      "_model_module": "@jupyter-widgets/controls",
      "_model_module_version": "1.5.0",
      "_model_name": "ButtonStyleModel",
      "_view_count": null,
      "_view_module": "@jupyter-widgets/base",
      "_view_module_version": "1.2.0",
      "_view_name": "StyleView",
      "button_color": null,
      "font_weight": ""
     }
    },
    "48cf8b9c434f4b3ea062acf343a29497": {
     "model_module": "@jupyter-widgets/controls",
     "model_module_version": "1.5.0",
     "model_name": "ButtonModel",
     "state": {
      "_dom_classes": [],
      "_model_module": "@jupyter-widgets/controls",
      "_model_module_version": "1.5.0",
      "_model_name": "ButtonModel",
      "_view_count": null,
      "_view_module": "@jupyter-widgets/controls",
      "_view_module_version": "1.5.0",
      "_view_name": "ButtonView",
      "button_style": "",
      "description": "Shuffle Image",
      "disabled": false,
      "icon": "",
      "layout": "IPY_MODEL_05b7aa8f42c240d2b499db4f4dec0de3",
      "style": "IPY_MODEL_3cc5b357c2404692b1f0c36909a485d7",
      "tooltip": ""
     }
    }
   }
  }
 },
 "nbformat": 4,
 "nbformat_minor": 0
}
